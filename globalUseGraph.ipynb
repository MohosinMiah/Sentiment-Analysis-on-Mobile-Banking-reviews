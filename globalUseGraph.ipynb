{
 "cells": [
  {
   "cell_type": "markdown",
   "metadata": {},
   "source": [
    "# Sentiment Analysis on Mobile Banking reviews\n",
    "\n",
    "The given task is to learn sentiment from all the given reviews and predict rating from a new review. This objective is attained by following the steps listed below:\n",
    "\n",
    "### Importing the modules"
   ]
  },
  {
   "cell_type": "code",
   "execution_count": 2,
   "metadata": {},
   "outputs": [],
   "source": [
    "import pandas as pd\n",
    "import numpy as np\n",
    "import nltk\n",
    "import future\n",
    "import matplotlib.pyplot as plt\n",
    "%matplotlib inline\n",
    "\n",
    "from sklearn.model_selection import train_test_split, GridSearchCV\n",
    "from sklearn.feature_extraction.text import CountVectorizer, TfidfVectorizer\n",
    "from sklearn.naive_bayes import BernoulliNB, MultinomialNB\n",
    "from sklearn import metrics\n",
    "from sklearn.metrics import roc_auc_score, accuracy_score\n",
    "from sklearn.preprocessing import label_binarize\n",
    "from sklearn.linear_model import LogisticRegression\n",
    "\n",
    "from sklearn.pipeline import Pipeline\n",
    "from sklearn import svm\n",
    "from sklearn.svm import LinearSVC\n",
    "from sklearn.svm import SVR\n",
    "from sklearn import metrics\n",
    "\n",
    "from sklearn.ensemble import RandomForestClassifier\n",
    "from sklearn.tree import DecisionTreeClassifier\n",
    "\n",
    "from bs4 import BeautifulSoup  \n",
    "import re\n",
    "import nltk\n",
    "from nltk.corpus import stopwords "
   ]
  },
  {
   "cell_type": "code",
   "execution_count": 3,
   "metadata": {},
   "outputs": [
    {
     "name": "stdout",
     "output_type": "stream",
     "text": [
      "                                                test  sentiment\n",
      "0                                               text  sentiment\n",
      "1  For a movie that gets no respect there sure ar...          0\n",
      "2  Bizarre horror movie filled with famous faces ...          0\n",
      "3  A solid, if unremarkable film. Matthau, as Ein...          0\n",
      "4  It's a strange feeling to sit alone in a theat...          0\n"
     ]
    }
   ],
   "source": [
    "col_names = [\"test\", \"sentiment\"]\n",
    "\n",
    "data = pd.read_csv('train.csv',names=col_names,error_bad_lines=False)\n",
    "print(data.head())"
   ]
  },
  {
   "cell_type": "code",
   "execution_count": null,
   "metadata": {},
   "outputs": [],
   "source": []
  },
  {
   "cell_type": "markdown",
   "metadata": {},
   "source": [
    "# Data Labeling\n",
    "\n",
    "- In this step we clean the data and label the data as <br>\n",
    "  > 0 for Poor <br>\n",
    "  > 1 for Neutral <br>\n",
    "  > 2 for Good\n",
    "- Read the data from __'Amazon_Unlocked_Mobile.csv'__ and add new column for labels"
   ]
  },
  {
   "cell_type": "code",
   "execution_count": 4,
   "metadata": {},
   "outputs": [
    {
     "name": "stdout",
     "output_type": "stream",
     "text": [
      "                                                test  sentiment\n",
      "0                                               text  sentiment\n",
      "1  For a movie that gets no respect there sure ar...          0\n",
      "2  Bizarre horror movie filled with famous faces ...          0\n",
      "3  A solid, if unremarkable film. Matthau, as Ein...          0\n",
      "4  It's a strange feeling to sit alone in a theat...          0\n"
     ]
    }
   ],
   "source": [
    "def label_data():\n",
    "      col_names = [\"test\", \"sentiment\"]\n",
    "      data = pd.read_csv('train.csv',names=col_names,error_bad_lines=False)    \n",
    "#     labels = []\n",
    "#     for cell in rows['sentiment']:\n",
    "#         if cell == 1:\n",
    "#             labels.append('1')   #Good\n",
    "#         else:\n",
    "#             labels.append('0')   #Poor\n",
    "            \n",
    "#     rows['label'] = labels\n",
    "#     del rows['review']\n",
    "#     return rows\n",
    "print(data.head())"
   ]
  },
  {
   "cell_type": "markdown",
   "metadata": {},
   "source": [
    "### Data Cleaning\n",
    "\n",
    "Remove all the rows containing blank cells. The resultant data is stored as __'labelled_dataset.csv'__"
   ]
  },
  {
   "cell_type": "code",
   "execution_count": 5,
   "metadata": {},
   "outputs": [],
   "source": [
    "def clean_data(data):\n",
    "    col_names = [\"test\", \"sentiment\"]\n",
    "    data = pd.read_csv('train.csv',names=col_names,error_bad_lines=False)    \n",
    "    return data"
   ]
  },
  {
   "cell_type": "code",
   "execution_count": 6,
   "metadata": {},
   "outputs": [
    {
     "name": "stdout",
     "output_type": "stream",
     "text": [
      "                                                test  sentiment\n",
      "0                                               text  sentiment\n",
      "1  For a movie that gets no respect there sure ar...          0\n",
      "2  Bizarre horror movie filled with famous faces ...          0\n",
      "3  A solid, if unremarkable film. Matthau, as Ein...          0\n",
      "4  It's a strange feeling to sit alone in a theat...          0\n"
     ]
    }
   ],
   "source": [
    "print(data.head())"
   ]
  },
  {
   "cell_type": "markdown",
   "metadata": {},
   "source": [
    "### Data preprocessing\n",
    "\n",
    "The following text preprocessing are implemented to convert raw reviews to cleaned review, so that it will be easier for us to do feature extraction in the next step.\n",
    "\n",
    "- remove html tags using BeautifulSoup\n",
    "- remove non-character such as digits and symbols\n",
    "- convert to lower case\n",
    "- remove stop words such as \"the\" and \"and\" if needed\n",
    "- convert to root words by stemming if needed"
   ]
  },
  {
   "cell_type": "code",
   "execution_count": 7,
   "metadata": {},
   "outputs": [],
   "source": [
    "def cleanText(raw_text, remove_stopwords=False, stemming=False, split_text=False):\n",
    "    '''\n",
    "    Convert a raw review to a cleaned review\n",
    "    '''\n",
    "    text = BeautifulSoup(raw_text, 'lxml').get_text()  #remove html\n",
    "    letters_only = re.sub(\"[^a-zA-Z]\", \" \", text)  # remove non-character\n",
    "    words = letters_only.lower().split() # convert to lower case \n",
    "    \n",
    "    if remove_stopwords: # remove stopword\n",
    "        stops = set(stopwords.words(\"english\"))\n",
    "        words = [w for w in words if not w in stops]\n",
    "        \n",
    "    if stemming==True: # stemming\n",
    "#         stemmer = PorterStemmer()\n",
    "        stemmer = SnowballStemmer('english') \n",
    "        words = [stemmer.stem(w) for w in words]\n",
    "        \n",
    "    if split_text==True:  # split text\n",
    "        return (words)\n",
    "    \n",
    "    return( \" \".join(words))"
   ]
  },
  {
   "cell_type": "code",
   "execution_count": 8,
   "metadata": {},
   "outputs": [],
   "source": [
    "def modelEvaluation(predictions, y_test_set):\n",
    "    #Print model evaluation to predicted result \n",
    "    \n",
    "#     print \"\\nAccuracy on validation set: {:.4f}\".format(accuracy_score(y_test_set, predictions))\n",
    "    print (\"\\nAccuracy on validation set: % 5.2f \" %(accuracy_score(y_test_set, predictions)))\n",
    "    #print \"\\nAUC score : {:.4f}\".format(roc_auc_score(y_test_set, predictions))\n",
    "    print (\"\\nClassification report : \\n\", metrics.classification_report(y_test_set, predictions))\n",
    "    print (\"\\nConfusion Matrix : \\n\", metrics.confusion_matrix(y_test_set, predictions))"
   ]
  },
  {
   "cell_type": "markdown",
   "metadata": {},
   "source": [
    "### Bag of Words\n",
    "\n",
    "The sentiment analysis of given text can be done in two ways. First, we need to find a word embedding to convert a text into a numerical representation. Second, we fit the numerical representations of text to machine learning algorithms or deep learning architectures.\n",
    "\n",
    "One common approach of word embedding is frequency based embedding such as Bag of Words (BoW) model. BoW model learns a vocubulary list from a given corpus and represents each document based on some counting methods of words. In this part, we will explore the model performance of using BoW with supervised learning algorithms. Here's the workflow in this part.\n",
    "\n",
    "- Step 1 : Preprocess raw reviews to cleaned reviews\n",
    "- Step 2 : Create BoW using CountVectorizer / Tfidfvectorizer in sklearn\n",
    "- Step 3 : Transform review text to numerical representations (feature vectors)\n",
    "- Step 4 : Fit feature vectors to supervised learning algorithm (eg. Naive Bayes, Logistic regression, etc.)\n",
    "- Step 5 : Improve the model performance by GridSearch"
   ]
  },
  {
   "cell_type": "code",
   "execution_count": 9,
   "metadata": {},
   "outputs": [
    {
     "name": "stdout",
     "output_type": "stream",
     "text": [
      "                                                test  sentiment\n",
      "0                                               text  sentiment\n",
      "1  For a movie that gets no respect there sure ar...          0\n",
      "2  Bizarre horror movie filled with famous faces ...          0\n",
      "3  A solid, if unremarkable film. Matthau, as Ein...          0\n",
      "4  It's a strange feeling to sit alone in a theat...          0\n"
     ]
    }
   ],
   "source": [
    "if __name__ == '__main__':\n",
    "#     data = label_data()\n",
    "#     data = clean_data(data)        ----------\n",
    "    #prints first 5 rows of the dataset\n",
    "    print(data.head())    "
   ]
  },
  {
   "cell_type": "markdown",
   "metadata": {},
   "source": [
    "### Visualisation"
   ]
  },
  {
   "cell_type": "code",
   "execution_count": 10,
   "metadata": {},
   "outputs": [],
   "source": [
    "#     # Plot distribution of rating\n",
    "#     plt.figure(figsize=(12,8))\n",
    "#     # sns.countplot(data['Rating'])\n",
    "#     data['sentiment'].value_counts().sort_index().plot(kind='bar')\n",
    "#     plt.title('Distribution of Rating')\n",
    "#     plt.xlabel('sentiment')\n",
    "#     plt.ylabel('Count')"
   ]
  },
  {
   "cell_type": "code",
   "execution_count": 11,
   "metadata": {
    "scrolled": false
   },
   "outputs": [],
   "source": [
    "    # Plot number of reviews for top 20 brands\n",
    "#     brands = datas[\"test\"].value_counts()\n",
    "#     # brands.count()\n",
    "#     plt.figure(figsize=(12,8))\n",
    "#     brands[:40].plot(kind='bar')\n",
    "#     plt.title(\"Top 40 review\")"
   ]
  },
  {
   "cell_type": "code",
   "execution_count": 12,
   "metadata": {},
   "outputs": [],
   "source": [
    "#     # Plot number of reviews for top 50 products\n",
    "#     products = datas[\"test\"].value_counts()\n",
    "#     plt.figure(figsize=(12,8))\n",
    "#     products[:50].plot(kind='bar')\n",
    "#     plt.title(\"Number of Reviews for Top 50 Products\")"
   ]
  },
  {
   "cell_type": "code",
   "execution_count": 13,
   "metadata": {},
   "outputs": [],
   "source": [
    "#     # Plot distribution of review length\n",
    "#     review_length = data[\"test\"].dropna().map(lambda x: len(x))\n",
    "#     plt.figure(figsize=(12,8))\n",
    "#     review_length.loc[review_length < 1500].hist()\n",
    "#     plt.title(\"Distribution of Review Length\")\n",
    "#     plt.xlabel('Review length (Number of character)')\n",
    "#     plt.ylabel('Count')"
   ]
  },
  {
   "cell_type": "code",
   "execution_count": 14,
   "metadata": {},
   "outputs": [],
   "source": [
    "    #split data into training and testing set\n",
    "    x_train, x_test, y_train, y_test = train_test_split(data['test'], data['sentiment'], test_size=0.1, random_state=0)\n",
    "    \n",
    "    \n",
    "    #If the label are words instead of numbers, they can be replaced programmatically using following two lines\n",
    "    #y_train = label_binarize(y_train, classes=[0, 1, 2])\n",
    "#     x_test_cleaned = pd.read_csv('test.csv',names=col_names,error_bad_lines=False)\n",
    "#     x_test = x_test_cleaned[:2000]"
   ]
  },
  {
   "cell_type": "code",
   "execution_count": 15,
   "metadata": {},
   "outputs": [],
   "source": [
    "    # Preprocess text data in training set and validation set\n",
    "    x_train_cleaned = []\n",
    "    x_test_cleaned = []\n",
    "\n",
    "    for d in x_train:\n",
    "        x_train_cleaned.append(cleanText(d))\n",
    "\n",
    "    for d in x_test:\n",
    "        x_test_cleaned.append(cleanText(d))    "
   ]
  },
  {
   "cell_type": "code",
   "execution_count": null,
   "metadata": {},
   "outputs": [],
   "source": []
  },
  {
   "cell_type": "code",
   "execution_count": null,
   "metadata": {},
   "outputs": [],
   "source": []
  },
  {
   "cell_type": "markdown",
   "metadata": {},
   "source": [
    "### CountVectorizer with Mulinomial Naive Bayes (Benchmark Model)\n",
    "\n",
    "Now we have cleaned reviews, the next step is to convert the reviews into numerical representations for machine learning algorithm.\n",
    "\n",
    "In sklearn library, we can use CountVectorizer which implements both tokenization and occurrence counting in a single class. The output is a sparse matrix representation of a document."
   ]
  },
  {
   "cell_type": "code",
   "execution_count": 16,
   "metadata": {},
   "outputs": [
    {
     "name": "stdout",
     "output_type": "stream",
     "text": [
      "Number of features : 70383 \n",
      "\n",
      "Show some feature names : \n",
      " ['aa', 'afterworld', 'analyst', 'armistead', 'awwwwww', 'beaches', 'biochemical', 'boos', 'budding', 'capri', 'chao', 'clanging', 'companies', 'cooper', 'crucial', 'deathscythe', 'desperadoes', 'dislocated', 'dragonballz', 'eerieness', 'entente', 'exist', 'feels', 'flounce', 'frumpish', 'gertrude', 'grading', 'haggard', 'heiden', 'honkin', 'ignorance', 'infringement', 'ishmael', 'judgment', 'kisses', 'larky', 'limos', 'luske', 'marguerite', 'meet', 'misawa', 'motorist', 'neanderthals', 'nozzle', 'organics', 'pantomime', 'perms', 'pleadings', 'preform', 'pucking', 'rantings', 'reified', 'revitalize', 'rout', 'savalas', 'selina', 'shoes', 'sled', 'soundtract', 'starring', 'subjecting', 'swith', 'tenderfoot', 'titillates', 'tricked', 'unclean', 'untapped', 'victimized', 'watling', 'withdrawal', 'yuletide']\n"
     ]
    }
   ],
   "source": [
    "    # Fit and transform the training data to a document-term matrix using CountVectorizer\n",
    "    countVect = CountVectorizer() \n",
    "    x_train_countVect = countVect.fit_transform(x_train_cleaned)\n",
    "    print (\"Number of features : %d \\n\" %len(countVect.get_feature_names())) #6378 \n",
    "    print (\"Show some feature names : \\n\", countVect.get_feature_names()[::1000])"
   ]
  },
  {
   "cell_type": "code",
   "execution_count": 17,
   "metadata": {},
   "outputs": [
    {
     "data": {
      "text/plain": [
       "MultinomialNB(alpha=1.0, class_prior=None, fit_prior=True)"
      ]
     },
     "execution_count": 17,
     "metadata": {},
     "output_type": "execute_result"
    }
   ],
   "source": [
    "    # Train MultinomialNB classifier\n",
    "    mnb = MultinomialNB()\n",
    "    mnb.fit(x_train_countVect, y_train)"
   ]
  },
  {
   "cell_type": "code",
   "execution_count": 18,
   "metadata": {},
   "outputs": [
    {
     "name": "stdout",
     "output_type": "stream",
     "text": [
      "\n",
      "Accuracy on validation set:  0.85 \n",
      "\n",
      "Classification report : \n",
      "               precision    recall  f1-score   support\n",
      "\n",
      "           0       0.88      0.81      0.84      1241\n",
      "           1       0.83      0.89      0.86      1260\n",
      "\n",
      "    accuracy                           0.85      2501\n",
      "   macro avg       0.85      0.85      0.85      2501\n",
      "weighted avg       0.85      0.85      0.85      2501\n",
      "\n",
      "\n",
      "Confusion Matrix : \n",
      " [[1007  234]\n",
      " [ 138 1122]]\n",
      "['1' '0' '1' ... '1' '0' '0']\n"
     ]
    }
   ],
   "source": [
    "    # Evaluate the model on validaton set\n",
    "    predictions = mnb.predict(countVect.transform(x_test_cleaned))\n",
    "    modelEvaluation(predictions, y_test)\n",
    "    print(predictions)"
   ]
  },
  {
   "cell_type": "code",
   "execution_count": 19,
   "metadata": {},
   "outputs": [
    {
     "name": "stdout",
     "output_type": "stream",
     "text": [
      "1            12500\n",
      "0            12500\n",
      "sentiment        1\n",
      "Name: sentiment, dtype: int64\n"
     ]
    }
   ],
   "source": [
    "print(data['sentiment'].value_counts())"
   ]
  },
  {
   "cell_type": "markdown",
   "metadata": {},
   "source": [
    "### TfidfVectorizer with Logistic Regression\n",
    "\n",
    "Some words might frequently appear but have little meaningful information about the sentiment of a particular review. Instead of using occurance counting, we can use tf-idf transform to scale down the impact of frequently appeared words in a given corpus.\n",
    "\n",
    "In sklearn library, we can use TfidfVectorizer which implements both tokenization and tf-idf weighted counting in a single class."
   ]
  },
  {
   "cell_type": "code",
   "execution_count": 20,
   "metadata": {},
   "outputs": [
    {
     "name": "stdout",
     "output_type": "stream",
     "text": [
      "Number of features : 25937 \n",
      "\n",
      "Show some feature names : \n",
      " ['00', 'ambiguous', 'barbaric', 'breasts', 'cheerfulness', 'consideration', 'decked', 'doped', 'eschews', 'flips', 'gorier', 'his', 'insisting', 'krige', 'mahatma', 'moms', 'oddest', 'perspectives', 'prophecy', 'rendition', 'satirized', 'siren', 'stepped', 'teenage', 'twentieth', 'vulgar']\n"
     ]
    },
    {
     "name": "stderr",
     "output_type": "stream",
     "text": [
      "C:\\ProgramData\\Anaconda3\\lib\\site-packages\\sklearn\\linear_model\\logistic.py:432: FutureWarning: Default solver will be changed to 'lbfgs' in 0.22. Specify a solver to silence this warning.\n",
      "  FutureWarning)\n",
      "C:\\ProgramData\\Anaconda3\\lib\\site-packages\\sklearn\\linear_model\\logistic.py:469: FutureWarning: Default multi_class will be changed to 'auto' in 0.22. Specify the multi_class option to silence this warning.\n",
      "  \"this warning.\", FutureWarning)\n"
     ]
    },
    {
     "data": {
      "text/plain": [
       "LogisticRegression(C=1.0, class_weight=None, dual=False, fit_intercept=True,\n",
       "                   intercept_scaling=1, l1_ratio=None, max_iter=100,\n",
       "                   multi_class='warn', n_jobs=None, penalty='l2',\n",
       "                   random_state=None, solver='warn', tol=0.0001, verbose=0,\n",
       "                   warm_start=False)"
      ]
     },
     "execution_count": 20,
     "metadata": {},
     "output_type": "execute_result"
    }
   ],
   "source": [
    "    # Fit and transform the training data to a document-term matrix using TfidfVectorizer \n",
    "    tfidf = TfidfVectorizer(min_df=5) #minimum document frequency of 5\n",
    "    x_train_tfidf = tfidf.fit_transform(x_train)\n",
    "    print (\"Number of features : %d \\n\" %len(tfidf.get_feature_names())) #1722\n",
    "    print (\"Show some feature names : \\n\", tfidf.get_feature_names()[::1000])\n",
    "\n",
    "    # Logistic Regression\n",
    "    lr = LogisticRegression()\n",
    "    lr.fit(x_train_tfidf, y_train)"
   ]
  },
  {
   "cell_type": "code",
   "execution_count": 21,
   "metadata": {},
   "outputs": [
    {
     "name": "stdout",
     "output_type": "stream",
     "text": [
      "Total number of features = 25937\n",
      "\n",
      "Top 10 features with smallest coefficients :\n",
      "['worst' 'bad' 'awful' 'waste' 'boring' 'poor' 'terrible' 'nothing'\n",
      " 'worse' 'no']\n",
      "\n",
      "Top 10 features with largest coefficients : \n",
      "['great' 'excellent' 'best' 'perfect' 'wonderful' 'amazing' 'well' 'loved'\n",
      " 'love' 'favorite']\n"
     ]
    }
   ],
   "source": [
    "    # Look at the top 10 features with smallest and the largest coefficients\n",
    "    feature_names = np.array(tfidf.get_feature_names())\n",
    "    sorted_coef_index = lr.coef_[0].argsort()\n",
    "    print (\"Total number of features = \" + str(len(sorted_coef_index)))\n",
    "    print ('\\nTop 10 features with smallest coefficients :\\n{}\\n'.format(feature_names[sorted_coef_index[:10]]))\n",
    "    print ('Top 10 features with largest coefficients : \\n{}'.format(feature_names[sorted_coef_index[:-11:-1]]))"
   ]
  },
  {
   "cell_type": "code",
   "execution_count": null,
   "metadata": {},
   "outputs": [],
   "source": []
  },
  {
   "cell_type": "code",
   "execution_count": 22,
   "metadata": {},
   "outputs": [
    {
     "name": "stdout",
     "output_type": "stream",
     "text": [
      "['1' '0' '1' ... '1' '0' '0']\n",
      "\n",
      "Accuracy on validation set:  0.88 \n",
      "\n",
      "Classification report : \n",
      "               precision    recall  f1-score   support\n",
      "\n",
      "           0       0.87      0.89      0.88      1241\n",
      "           1       0.89      0.87      0.88      1260\n",
      "\n",
      "    accuracy                           0.88      2501\n",
      "   macro avg       0.88      0.88      0.88      2501\n",
      "weighted avg       0.88      0.88      0.88      2501\n",
      "\n",
      "\n",
      "Confusion Matrix : \n",
      " [[1108  133]\n",
      " [ 161 1099]]\n"
     ]
    }
   ],
   "source": [
    "\n",
    "    # Evaluate on the validaton set\n",
    "    predictions = lr.predict(tfidf.transform(x_test_cleaned))\n",
    "    print(predictions)\n",
    "\n",
    "    modelEvaluation(predictions, y_test)"
   ]
  },
  {
   "cell_type": "markdown",
   "metadata": {},
   "source": [
    "### SVM and Trees\n",
    "\n",
    "system will use two algorithms SVM and Random Forest to perform analysis and to determine which suits better for recommendation.\n",
    "\n",
    "### Support Vector Machine\n",
    "\n",
    "Here we implement multi-svm for sentiment analysis. More information about it can be found on [this](http://scikit-learn.org/stable/modules/svm.html) link. <br>\n",
    "\n",
    "- Tip 1 : Here, different kernels can be tried out. For example, linear, nonlinear, precomputed, rbf etc.\n",
    "- Tip 2 : The parameter values given below can be tweaked to obtain different results.\n",
    "\n",
    "### Using LinearSVC\n",
    "\n",
    "Here you can tweak the api parameters of LinearSVC as per your choice. Refer to [this](http://scikit-learn.org/stable/modules/generated/sklearn.svm.LinearSVC.html) link for making any changes."
   ]
  },
  {
   "cell_type": "code",
   "execution_count": 23,
   "metadata": {},
   "outputs": [
    {
     "name": "stdout",
     "output_type": "stream",
     "text": [
      "['0']\n"
     ]
    }
   ],
   "source": [
    "    #x_train_subset = tfidf.transform(x_train_cleaned[:100])\n",
    "    x_train_input = tfidf.transform(x_train_cleaned)\n",
    "    svr_lin = LinearSVC(multi_class='ovr',C=1.0,loss='squared_hinge', dual=False)\n",
    "    svr_lin.fit(x_train_input, y_train)\n",
    "    y_svr_lin_predicted = svr_lin.predict(tfidf.transform(x_test_cleaned))\n",
    "#     print(y_svr_lin_predicted)\n",
    "    sample = [\"Bikas is very Bad.But some time it works beeter\"]\n",
    "    sample = tfidf.transform(sample).toarray()\n",
    "    sentiment = svr_lin.predict(sample)\n",
    "    print(sentiment)"
   ]
  },
  {
   "cell_type": "code",
   "execution_count": 24,
   "metadata": {},
   "outputs": [
    {
     "name": "stdout",
     "output_type": "stream",
     "text": [
      "['1']\n"
     ]
    }
   ],
   "source": [
    "# Test Manually \n",
    "sample = [\"Bikas is very Bad.But some time it works beeter.It is not okey to use\"]\n",
    "sample = tfidf.transform(sample).toarray()\n",
    "sentiment = svr_lin.predict(sample)\n",
    "print(sentiment)"
   ]
  },
  {
   "cell_type": "code",
   "execution_count": 25,
   "metadata": {},
   "outputs": [
    {
     "name": "stdout",
     "output_type": "stream",
     "text": [
      "\n",
      "Accuracy on validation set:  0.88 \n",
      "\n",
      "Classification report : \n",
      "               precision    recall  f1-score   support\n",
      "\n",
      "           0       0.88      0.89      0.88      1241\n",
      "           1       0.89      0.88      0.88      1260\n",
      "\n",
      "    accuracy                           0.88      2501\n",
      "   macro avg       0.88      0.88      0.88      2501\n",
      "weighted avg       0.88      0.88      0.88      2501\n",
      "\n",
      "\n",
      "Confusion Matrix : \n",
      " [[1102  139]\n",
      " [ 150 1110]]\n"
     ]
    }
   ],
   "source": [
    "    modelEvaluation(y_svr_lin_predicted, y_test)"
   ]
  },
  {
   "cell_type": "markdown",
   "metadata": {},
   "source": [
    "### Functions for Model Evaluation\n",
    "\n",
    "There are multiple functions for model evaluation in scikit learn. To know more about them, please follow the below mentioned links\n",
    "- [accuracy score](http://scikit-learn.org/stable/modules/generated/sklearn.metrics.accuracy_score.html#sklearn.metrics.accuracy_score)\n",
    "- [f_score](http://scikit-learn.org/stable/modules/generated/sklearn.metrics.precision_recall_fscore_support.html)\n",
    "- [f1_score](http://scikit-learn.org/stable/modules/generated/sklearn.metrics.f1_score.html#sklearn.metrics.f1_score)\n",
    "- [confusion matrix](http://scikit-learn.org/stable/modules/generated/sklearn.metrics.confusion_matrix.html#sklearn.metrics.confusion_matrix)"
   ]
  },
  {
   "cell_type": "code",
   "execution_count": 26,
   "metadata": {},
   "outputs": [
    {
     "name": "stdout",
     "output_type": "stream",
     "text": [
      "0.8844462215113954\n"
     ]
    }
   ],
   "source": [
    "    print (str(metrics.accuracy_score(y_test, y_svr_lin_predicted)))\n",
    "#     print \"Fscore of this SVM = \" + str(metrics.precision_recall_fscore_support(y_test, y_svr_lin_predicted, pos_label=2, average='weighted'))\n",
    "#     print \"F-1 score of this SVM = \" + str(metrics.f1_score(y_test, y_svr_lin_predicted, pos_label=2, average='weighted'))\n",
    "#     print \"confusion matrix = \" + str(metrics.confusion_matrix(y_test, y_svr_lin_predicted))"
   ]
  },
  {
   "cell_type": "code",
   "execution_count": 27,
   "metadata": {
    "scrolled": true
   },
   "outputs": [],
   "source": [
    "#     not run this code \n",
    "#     print \"Accuracy of this SVM = \" + str(metrics.accuracy_score(y_test, y_svr_lin_predicted))\n",
    "#     print \"Fscore of this SVM = \" + str(metrics.precision_recall_fscore_support(y_test, y_svr_lin_predicted, pos_label=2, average='weighted'))\n",
    "#     print \"F-1 score of this SVM = \" + str(metrics.f1_score(y_test, y_svr_lin_predicted, pos_label=2, average='weighted'))\n",
    "#     print \"confusion matrix = \" + str(metrics.confusion_matrix(y_test, y_svr_lin_predicted))"
   ]
  },
  {
   "cell_type": "markdown",
   "metadata": {},
   "source": [
    "### Random Forest\n",
    "\n",
    "Refer to [this](http://scikit-learn.org/stable/modules/generated/sklearn.ensemble.RandomForestClassifier.html#id1) link for more information"
   ]
  },
  {
   "cell_type": "code",
   "execution_count": 28,
   "metadata": {},
   "outputs": [
    {
     "name": "stderr",
     "output_type": "stream",
     "text": [
      "C:\\ProgramData\\Anaconda3\\lib\\site-packages\\sklearn\\ensemble\\forest.py:245: FutureWarning: The default value of n_estimators will change from 10 in version 0.20 to 100 in 0.22.\n",
      "  \"10 in version 0.20 to 100 in 0.22.\", FutureWarning)\n"
     ]
    },
    {
     "name": "stdout",
     "output_type": "stream",
     "text": [
      "['1' '1' '1' ... '0' '1' '0']\n"
     ]
    }
   ],
   "source": [
    "    rand = RandomForestClassifier()\n",
    "    rand.fit(x_train_input, y_train)\n",
    "    y_rand_predicted = rand.predict(tfidf.transform(x_test_cleaned))\n",
    "    print(y_rand_predicted)\n",
    "#     sample = [\"Dhaka wasa water is not useable.Very bad\"]\n",
    "#     sample = tfidf.transform(sample).toarray()\n",
    "#     sentiment = clf.predict(sample)\n",
    "#     print(sentiment)"
   ]
  },
  {
   "cell_type": "code",
   "execution_count": 29,
   "metadata": {},
   "outputs": [
    {
     "name": "stdout",
     "output_type": "stream",
     "text": [
      "\n",
      "Accuracy on validation set:  0.75 \n",
      "\n",
      "Classification report : \n",
      "               precision    recall  f1-score   support\n",
      "\n",
      "           0       0.71      0.83      0.77      1241\n",
      "           1       0.80      0.67      0.73      1260\n",
      "\n",
      "    accuracy                           0.75      2501\n",
      "   macro avg       0.75      0.75      0.75      2501\n",
      "weighted avg       0.76      0.75      0.75      2501\n",
      "\n",
      "\n",
      "Confusion Matrix : \n",
      " [[1029  212]\n",
      " [ 418  842]]\n"
     ]
    }
   ],
   "source": [
    "    modelEvaluation(y_rand_predicted, y_test)"
   ]
  },
  {
   "cell_type": "code",
   "execution_count": 30,
   "metadata": {},
   "outputs": [
    {
     "name": "stdout",
     "output_type": "stream",
     "text": [
      "Result Of Accuracy\n"
     ]
    }
   ],
   "source": [
    "    print(\"Result Of Accuracy\")"
   ]
  },
  {
   "cell_type": "code",
   "execution_count": 31,
   "metadata": {},
   "outputs": [
    {
     "name": "stdout",
     "output_type": "stream",
     "text": [
      "0.7481007596961216\n",
      "Result Of Accuracy\n"
     ]
    }
   ],
   "source": [
    "    print (rand.score(tfidf.transform(x_test_cleaned), y_test))\n",
    "    print(\"Result Of Accuracy\")"
   ]
  },
  {
   "cell_type": "code",
   "execution_count": 32,
   "metadata": {},
   "outputs": [],
   "source": [
    "#        Not Run\n",
    "#     print (\"Accuracy of Random Forest = \" + str(rand.score(tfidf.transform(x_test_cleaned), y_test)))\n",
    "#     print (\"Fscore of this SVM = \" + str(metrics.precision_recall_fscore_support(y_test, y_predicted, pos_label=2, average='weighted')))\n",
    "#     print (\"F-1 score of this SVM = \" + str(metrics.f1_score(y_test, y_predicted, pos_label=2, average='weighted')))\n",
    "#     print (\"confusion matrix = \" + str(metrics.confusion_matrix(y_test, y_predicted)))"
   ]
  },
  {
   "cell_type": "markdown",
   "metadata": {},
   "source": [
    "### Decision Tree\n",
    "\n",
    "Refer [this](http://scikit-learn.org/stable/modules/generated/sklearn.tree.DecisionTreeClassifier.html#sklearn.tree.DecisionTreeClassifier) link for more information"
   ]
  },
  {
   "cell_type": "code",
   "execution_count": 35,
   "metadata": {},
   "outputs": [],
   "source": [
    "    decTree = DecisionTreeClassifier()\n",
    "    decTree.fit(x_train_input, y_train)\n",
    "    y_decTree_predicted = decTree.predict(tfidf.transform(x_test_cleaned))\n",
    "#     sample = [\"Dhaka wasa water is not useable.Very bad\"]\n",
    "#     sample = tfidf.transform(sample).toarray()\n",
    "#     sentiment = clf.predict(sample)\n",
    "#     print(sentiment)\n",
    "    "
   ]
  },
  {
   "cell_type": "code",
   "execution_count": 36,
   "metadata": {},
   "outputs": [
    {
     "name": "stdout",
     "output_type": "stream",
     "text": [
      "\n",
      "Accuracy on validation set:  0.70 \n",
      "\n",
      "Classification report : \n",
      "               precision    recall  f1-score   support\n",
      "\n",
      "           0       0.70      0.71      0.70      1241\n",
      "           1       0.71      0.70      0.70      1260\n",
      "\n",
      "    accuracy                           0.70      2501\n",
      "   macro avg       0.70      0.70      0.70      2501\n",
      "weighted avg       0.70      0.70      0.70      2501\n",
      "\n",
      "\n",
      "Confusion Matrix : \n",
      " [[878 363]\n",
      " [383 877]]\n"
     ]
    }
   ],
   "source": [
    "    modelEvaluation(y_decTree_predicted, y_test)"
   ]
  },
  {
   "cell_type": "code",
   "execution_count": null,
   "metadata": {},
   "outputs": [],
   "source": [
    "    print (decTree.score(tfidf.transform(x_test_cleaned), y_test))\n",
    "#     print \"Fscore of this SVM = \" + str(metrics.precision_recall_fscore_support(y_test, y_decTree_predicted, pos_label=2, average='weighted'))\n",
    "#     print \"F-1 score of this SVM = \" + str(metrics.f1_score(y_test, y_decTree_predicted, pos_label=2, average='weighted'))\n",
    "#     print \"confusion matrix = \" + str(metrics.confusion_matrix(y_test, y_decTree_predicted))"
   ]
  },
  {
   "cell_type": "code",
   "execution_count": null,
   "metadata": {},
   "outputs": [],
   "source": [
    "#     Not Run\n",
    "#     print \"Accuracy of Decision Tree = \" + str(decTree.score(tfidf.transform(x_test_cleaned), y_test))\n",
    "#     print \"Fscore of this SVM = \" + str(metrics.precision_recall_fscore_support(y_test, y_decTree_predicted, pos_label=2, average='weighted'))\n",
    "#     print \"F-1 score of this SVM = \" + str(metrics.f1_score(y_test, y_decTree_predicted, pos_label=2, average='weighted'))\n",
    "#     print \"confusion matrix = \" + str(metrics.confusion_matrix(y_test, y_decTree_predicted))"
   ]
  },
  {
   "cell_type": "markdown",
   "metadata": {},
   "source": [
    "# Read CSV File Data "
   ]
  },
  {
   "cell_type": "code",
   "execution_count": 55,
   "metadata": {},
   "outputs": [
    {
     "name": "stdout",
     "output_type": "stream",
     "text": [
      "0      sentiment\n",
      "1              1\n",
      "2            NaN\n",
      "3            NaN\n",
      "4            NaN\n",
      "         ...    \n",
      "148          NaN\n",
      "149          NaN\n",
      "150          NaN\n",
      "151          NaN\n",
      "152          NaN\n",
      "Name: sentiment, Length: 153, dtype: object\n"
     ]
    }
   ],
   "source": [
    "col_names = [\"test\",\"sentiment\",'company']\n",
    "datas = pd.read_csv('data_store/yes.csv',names=col_names,error_bad_lines=False)\n",
    "# displaying data frame again - Output 2 \n",
    "test_datas = datas['test'].tolist()\n",
    "# print(datas.head())\n",
    "sentiment_datas = datas['sentiment']\n",
    "\n",
    "#Testing For Add Data in specific column\n",
    "sentiment_datas[1] = 1\n",
    "print(sentiment_datas)\n"
   ]
  },
  {
   "cell_type": "code",
   "execution_count": 56,
   "metadata": {},
   "outputs": [],
   "source": [
    "#Global Variable Desine\n",
    "total_positive = 0\n",
    "total_negative = 0\n"
   ]
  },
  {
   "cell_type": "code",
   "execution_count": 57,
   "metadata": {},
   "outputs": [
    {
     "name": "stdout",
     "output_type": "stream",
     "text": [
      "<class 'numpy.ndarray'>\n",
      "test Sentiment :  ['0']\n",
      "<class 'numpy.ndarray'>\n",
      "Changes are extremely high than standard.  3rd grade level security.  Sentiment :  ['0']\n",
      "<class 'numpy.ndarray'>\n",
      "Its not good Sentiment :  ['0']\n",
      "<class 'numpy.ndarray'>\n",
      "its good.  Sentiment :  ['0']\n",
      "<class 'numpy.ndarray'>\n",
      "Its good Sentiment :  ['0']\n",
      "<class 'numpy.ndarray'>\n",
      "Good Sentiment :  ['0']\n",
      "<class 'numpy.ndarray'>\n",
      "It is good. Sentiment :  ['0']\n",
      "<class 'numpy.ndarray'>\n",
      "Charge little bit high but other service is good.   Sentiment :  ['0']\n",
      "<class 'numpy.ndarray'>\n",
      "Nothing  Sentiment :  ['1']\n",
      "<class 'numpy.ndarray'>\n",
      "It's quite good. Sentiment :  ['0']\n",
      "<class 'numpy.ndarray'>\n",
      "It'sgreat   Sentiment :  ['0']\n",
      "<class 'numpy.ndarray'>\n",
      "Bkash security aren't that much secure.& the charge cost are quit increasing when a persontry to send a lot of money then they need to pay quite much amount of service charge.     Sentiment :  ['0']\n",
      "<class 'numpy.ndarray'>\n",
      "Good Sentiment :  ['0']\n",
      "<class 'numpy.ndarray'>\n",
      "Good system it but service charge is not gd,1000 tk they cute there service charge 18 tk.when it service charge 10/12 tk this is good for customers  Sentiment :  ['0']\n",
      "<class 'numpy.ndarray'>\n",
      "Excess service charge  Sentiment :  ['0']\n",
      "<class 'numpy.ndarray'>\n",
      "Its every service system is good . Sentiment :  ['0']\n",
      "<class 'numpy.ndarray'>\n",
      "It's service charge is more than other mobile financial service provider in Bangladesh. If it is less then it will be better for customer. Sentiment :  ['0']\n",
      "<class 'numpy.ndarray'>\n",
      "High Costing in service charge Sentiment :  ['0']\n",
      "<class 'numpy.ndarray'>\n",
      "Bkash is reliable  Sentiment :  ['0']\n",
      "<class 'numpy.ndarray'>\n",
      "It is very secure. Bkash app is very friendly for user. Some features of Bkash is very helpful such as money transfer from card to bkash. It needs some improvement also.  Sentiment :  ['0']\n",
      "<class 'numpy.ndarray'>\n",
      "Good Sentiment :  ['0']\n",
      "<class 'numpy.ndarray'>\n",
      "i have no bkash Sentiment :  ['0']\n",
      "<class 'numpy.ndarray'>\n",
      "it is not good because service charge is high Sentiment :  ['0']\n",
      "<class 'numpy.ndarray'>\n",
      "Customer service,  security,  availability  both are fine. But service charge is expensive.  Sentiment :  ['0']\n",
      "<class 'numpy.ndarray'>\n",
      "Service charge is too  much Sentiment :  ['0']\n",
      "<class 'numpy.ndarray'>\n",
      "Convenient & Helpful Sentiment :  ['0']\n",
      "<class 'numpy.ndarray'>\n",
      "No Sentiment :  ['0']\n",
      "<class 'numpy.ndarray'>\n",
      "Very good service but I think cashout charge should be less. Sentiment :  ['0']\n",
      "<class 'numpy.ndarray'>\n",
      "Not so good but works . Sentiment :  ['0']\n",
      "<class 'numpy.ndarray'>\n",
      "No idea Sentiment :  ['0']\n",
      "<class 'numpy.ndarray'>\n",
      "Its really fantastic  Sentiment :  ['0']\n",
      "<class 'numpy.ndarray'>\n",
      "Its really fantastic.  Sentiment :  ['0']\n",
      "<class 'numpy.ndarray'>\n",
      "i don't have any accaount  Sentiment :  ['0']\n",
      "<class 'numpy.ndarray'>\n",
      "Everything is fine without the charged amount. It should be less Sentiment :  ['0']\n",
      "<class 'numpy.ndarray'>\n",
      "yes Sentiment :  ['0']\n",
      "<class 'numpy.ndarray'>\n",
      "not good Sentiment :  ['0']\n",
      "<class 'numpy.ndarray'>\n",
      "Service is good but security is not secure, service charge is also high  Sentiment :  ['0']\n",
      "<class 'numpy.ndarray'>\n",
      "Charge is very heavy Sentiment :  ['0']\n",
      "<class 'numpy.ndarray'>\n",
      "Bad.Charge is very heavy Sentiment :  ['0']\n",
      "<class 'numpy.ndarray'>\n",
      "I am not satisfy with that . Charge is very heavy . Very good and popular in Bangladesh . It's really amazing. Sentiment :  ['0']\n",
      "<class 'numpy.ndarray'>\n",
      "It's really amazing. I am satisfy with their service.It's provide very cool service Sentiment :  ['0']\n",
      "<class 'numpy.ndarray'>\n",
      "Service charge is so high, I think bkash is exploiting people. Sentiment :  ['0']\n",
      "<class 'numpy.ndarray'>\n",
      "It's a very good service as a mobile financual service Sentiment :  ['0']\n",
      "<class 'numpy.ndarray'>\n",
      "Good and very useful.  Sentiment :  ['0']\n",
      "<class 'numpy.ndarray'>\n",
      "service is good, security is good, availability is good and service charge is much. Sentiment :  ['0']\n",
      "<class 'numpy.ndarray'>\n",
      "In the Bkash customer service, security, and also service charge are not satisfied me. Especially, here poor security and too much charges.  Sentiment :  ['0']\n",
      "<class 'numpy.ndarray'>\n",
      "Bkash is the significant medium of transaction at present time.But,it's service charge make us insatisfied.Compared to other transaction medium,it's too much costable.Besides,it's insecure. Sentiment :  ['0']\n",
      "<class 'numpy.ndarray'>\n",
      "My mobile bKash service is varey good system  Sentiment :  ['0']\n",
      "<class 'numpy.ndarray'>\n",
      "My used is bKash  service  is varey good  Sentiment :  ['0']\n",
      "<class 'numpy.ndarray'>\n",
      "The cash out rate is very high Sentiment :  ['0']\n",
      "<class 'numpy.ndarray'>\n",
      "It's really mazing . Fatastic service the provide. Sentiment :  ['0']\n",
      "<class 'numpy.ndarray'>\n",
      "Amazing Service they provide.Cool happy with their service. Sentiment :  ['0']\n",
      "<class 'numpy.ndarray'>\n",
      "Excellent service  they provide.i am really happy with their service. Sentiment :  ['0']\n",
      "<class 'numpy.ndarray'>\n",
      "Their Security is need to be strong. Like rocket as per my opinion, they can use extra digit like rocket.    Sentiment :  ['0']\n",
      "<class 'numpy.ndarray'>\n",
      "It cut tomuch money to retrieve cash Sentiment :  ['1']\n",
      "<class 'numpy.ndarray'>\n",
      "Yes but it charges too much Sentiment :  ['0']\n",
      "<class 'numpy.ndarray'>\n",
      "service charge they takes high. security is good Sentiment :  ['0']\n",
      "<class 'numpy.ndarray'>\n",
      "Should be more secure  Sentiment :  ['0']\n",
      "<class 'numpy.ndarray'>\n",
      "It is much more comfortable. Sentiment :  ['0']\n",
      "<class 'numpy.ndarray'>\n",
      "Is good Sentiment :  ['0']\n",
      "<class 'numpy.ndarray'>\n",
      "service charge is very high. Sentiment :  ['0']\n",
      "<class 'numpy.ndarray'>\n",
      "It is good services organization. but I think some problem have this system.First one cut money then no secure .  recently many people problem face to secure system.  Sentiment :  ['1']\n",
      "<class 'numpy.ndarray'>\n",
      "Yes i have some issue customer service, need to rapidl, and must be reduce service charge, including every thousands charge should be under 10 tk.         Sentiment :  ['0']\n",
      "<class 'numpy.ndarray'>\n",
      "I think it's good for everyone because everyone used it.  Sentiment :  ['0']\n",
      "<class 'numpy.ndarray'>\n",
      "Good but cash out rate is high.  Sentiment :  ['0']\n",
      "<class 'numpy.ndarray'>\n",
      "Service charge is more.   Sentiment :  ['0']\n",
      "<class 'numpy.ndarray'>\n",
      "I have no experience. Sentiment :  ['0']\n",
      "<class 'numpy.ndarray'>\n",
      "Easy to use and if user is aware then security is so far good.   Sentiment :  ['0']\n",
      "<class 'numpy.ndarray'>\n",
      "It's too much good,I think. Sentiment :  ['0']\n",
      "<class 'numpy.ndarray'>\n",
      "Customer service and availability of Bkash is good. Security seems good to me but sometimes some scammers try to create some problems which is a big concern. Also service charge is too much. In other countries, service charges are less even the new growing Nagad is charging less than Bkash. They should take this under consideration as they have a lot of users and try to reduce the service charges. Sentiment :  ['0']\n",
      "<class 'numpy.ndarray'>\n",
      "It's good. But sometimes they shut down services for verification purpose. which feel harassment   Sentiment :  ['0']\n",
      "<class 'numpy.ndarray'>\n",
      "It is very much effective   Sentiment :  ['0']\n",
      "<class 'numpy.ndarray'>\n",
      "Service search should be reduce  Sentiment :  ['0']\n",
      "<class 'numpy.ndarray'>\n",
      "Bkash has good service overall. But their transaction charge is way too high. Also their security is not up to standard. Sentiment :  ['0']\n",
      "<class 'numpy.ndarray'>\n",
      "Overall bikash is best till now Sentiment :  ['0']\n",
      "<class 'numpy.ndarray'>\n",
      "I thing security purpose is good.\n",
      "but the main issue is charge. what a charge! they cut the charge just shameful attitude.\n",
      "Most of the time we are using bkash. it is really easy for us if they cut rate our money charge so that it will better for use. Sentiment :  ['1']\n"
     ]
    },
    {
     "ename": "ValueError",
     "evalue": "invalid literal for int() with base 10: 'sentiment'",
     "output_type": "error",
     "traceback": [
      "\u001b[1;31m---------------------------------------------------------------------------\u001b[0m",
      "\u001b[1;31mValueError\u001b[0m                                Traceback (most recent call last)",
      "\u001b[1;32m<ipython-input-57-defa586136fd>\u001b[0m in \u001b[0;36m<module>\u001b[1;34m\u001b[0m\n\u001b[0;32m      5\u001b[0m     \u001b[0msample\u001b[0m \u001b[1;33m=\u001b[0m \u001b[0mtfidf\u001b[0m\u001b[1;33m.\u001b[0m\u001b[0mtransform\u001b[0m\u001b[1;33m(\u001b[0m\u001b[0msample\u001b[0m\u001b[1;33m)\u001b[0m\u001b[1;33m\u001b[0m\u001b[1;33m\u001b[0m\u001b[0m\n\u001b[0;32m      6\u001b[0m     \u001b[0msentiment\u001b[0m \u001b[1;33m=\u001b[0m \u001b[0mrand\u001b[0m\u001b[1;33m.\u001b[0m\u001b[0mpredict\u001b[0m\u001b[1;33m(\u001b[0m\u001b[0msample\u001b[0m\u001b[1;33m)\u001b[0m\u001b[1;33m\u001b[0m\u001b[1;33m\u001b[0m\u001b[0m\n\u001b[1;32m----> 7\u001b[1;33m     \u001b[0msentiment_datas\u001b[0m\u001b[1;33m[\u001b[0m\u001b[0mi\u001b[0m\u001b[1;33m]\u001b[0m \u001b[1;33m=\u001b[0m \u001b[0mint\u001b[0m\u001b[1;33m(\u001b[0m\u001b[0msentiment\u001b[0m\u001b[1;33m)\u001b[0m\u001b[1;33m\u001b[0m\u001b[1;33m\u001b[0m\u001b[0m\n\u001b[0m\u001b[0;32m      8\u001b[0m     \u001b[0mprint\u001b[0m\u001b[1;33m(\u001b[0m\u001b[0mtype\u001b[0m\u001b[1;33m(\u001b[0m\u001b[0msentiment\u001b[0m\u001b[1;33m)\u001b[0m\u001b[1;33m)\u001b[0m\u001b[1;33m\u001b[0m\u001b[1;33m\u001b[0m\u001b[0m\n\u001b[0;32m      9\u001b[0m     \u001b[0mprint\u001b[0m\u001b[1;33m(\u001b[0m\u001b[0mdata\u001b[0m\u001b[1;33m,\u001b[0m\u001b[1;34m\"Sentiment : \"\u001b[0m\u001b[1;33m,\u001b[0m\u001b[0msentiment\u001b[0m\u001b[1;33m)\u001b[0m\u001b[1;33m\u001b[0m\u001b[1;33m\u001b[0m\u001b[0m\n",
      "\u001b[1;31mValueError\u001b[0m: invalid literal for int() with base 10: 'sentiment'"
     ]
    }
   ],
   "source": [
    "# Sentiment Prediction  from test data\n",
    "i = 1\n",
    "for data in test_datas:\n",
    "    sample = [data]\n",
    "    sample = tfidf.transform(sample)\n",
    "    sentiment = rand.predict(sample)\n",
    "    sentiment_datas[i] = int(sentiment)\n",
    "    print(type(sentiment))\n",
    "    print(data,\"Sentiment : \",sentiment)\n",
    "    i = i+1\n",
    "#     print('********************************',sentiment) \n",
    "    "
   ]
  },
  {
   "cell_type": "code",
   "execution_count": 58,
   "metadata": {},
   "outputs": [
    {
     "name": "stdout",
     "output_type": "stream",
     "text": [
      "(153, 3)\n",
      "['sentiment', 0, 0, 0, 0, 0, 0, 0, 0, 1, 0, 0, 0, 0, 0, 0, 0, 0, 0, 0, 0, 0, 0, 0, 0, 0, 0, 0, 0, 0, 0, 0, 0, 0, 0, 0, 0, 0, 0, 0, 0, 0, 0, 0, 0, 0, 0, 0, 0, 0, 0, 0, 0, 0, 0, 1, 0, 0, 0, 0, 0, 0, 1, 0, 0, 0, 0, 0, 0, 0, 0, 0, 0, 0, 0, 0, 1, nan, nan, nan, nan, nan, nan, nan, nan, nan, nan, nan, nan, nan, nan, nan, nan, nan, nan, nan, nan, nan, nan, nan, nan, nan, nan, nan, nan, nan, nan, nan, nan, nan, nan, nan, nan, nan, nan, nan, nan, nan, nan, nan, nan, nan, nan, nan, nan, nan, nan, nan, nan, nan, nan, nan, nan, nan, nan, nan, nan, nan, nan, nan, nan, nan, nan, nan, nan, nan, nan, nan, nan, nan, nan, nan, nan]\n",
      "<bound method Series.count of 0      sentiment\n",
      "1              0\n",
      "2              0\n",
      "3              0\n",
      "4              0\n",
      "         ...    \n",
      "148          NaN\n",
      "149          NaN\n",
      "150          NaN\n",
      "151          NaN\n",
      "152          NaN\n",
      "Name: sentiment, Length: 153, dtype: object>\n"
     ]
    }
   ],
   "source": [
    "print(datas.shape)\n",
    "print(datas['sentiment'].tolist())\n",
    "print(datas['sentiment'].count)"
   ]
  },
  {
   "cell_type": "code",
   "execution_count": 59,
   "metadata": {},
   "outputs": [
    {
     "name": "stdout",
     "output_type": "stream",
     "text": [
      "72\n",
      "81\n"
     ]
    }
   ],
   "source": [
    "positive = []\n",
    "negative = []\n",
    "\n",
    "for d in datas['sentiment'].tolist():\n",
    "    \n",
    "    if d == 0:\n",
    "        positive.append(0)\n",
    "    else:\n",
    "        negative.append(1)\n",
    "print(len(positive))\n",
    "print(len(negative))"
   ]
  },
  {
   "cell_type": "code",
   "execution_count": 60,
   "metadata": {},
   "outputs": [
    {
     "name": "stdout",
     "output_type": "stream",
     "text": [
      "<class 'list'>\n"
     ]
    }
   ],
   "source": [
    "print(type(datas['sentiment'].tolist()))"
   ]
  },
  {
   "cell_type": "code",
   "execution_count": 89,
   "metadata": {
    "scrolled": true
   },
   "outputs": [
    {
     "ename": "TypeError",
     "evalue": "'module' object is not callable",
     "output_type": "error",
     "traceback": [
      "\u001b[1;31m---------------------------------------------------------------------------\u001b[0m",
      "\u001b[1;31mTypeError\u001b[0m                                 Traceback (most recent call last)",
      "\u001b[1;32m<ipython-input-89-39f4791ace47>\u001b[0m in \u001b[0;36m<module>\u001b[1;34m\u001b[0m\n\u001b[0;32m     15\u001b[0m \u001b[1;31m# rects1 = ax.bar(x - width/2, men_means, width, label='Positive')\u001b[0m\u001b[1;33m\u001b[0m\u001b[1;33m\u001b[0m\u001b[1;33m\u001b[0m\u001b[0m\n\u001b[0;32m     16\u001b[0m \u001b[1;31m# rects2 = ax.bar(x + width/2, women_means, width, label='Negative')\u001b[0m\u001b[1;33m\u001b[0m\u001b[1;33m\u001b[0m\u001b[1;33m\u001b[0m\u001b[0m\n\u001b[1;32m---> 17\u001b[1;33m \u001b[0mplt\u001b[0m\u001b[1;33m(\u001b[0m\u001b[0mx\u001b[0m\u001b[1;33m=\u001b[0m\u001b[1;34m\"X\"\u001b[0m\u001b[1;33m,\u001b[0m \u001b[0my\u001b[0m\u001b[1;33m=\u001b[0m\u001b[1;33m[\u001b[0m\u001b[1;34m\"A\"\u001b[0m\u001b[1;33m,\u001b[0m \u001b[1;34m\"B\"\u001b[0m\u001b[1;33m,\u001b[0m \u001b[1;34m\"C\"\u001b[0m\u001b[1;33m]\u001b[0m\u001b[1;33m,\u001b[0m \u001b[0mkind\u001b[0m\u001b[1;33m=\u001b[0m\u001b[1;34m\"bar\"\u001b[0m\u001b[1;33m)\u001b[0m\u001b[1;33m\u001b[0m\u001b[1;33m\u001b[0m\u001b[0m\n\u001b[0m\u001b[0;32m     18\u001b[0m \u001b[1;33m\u001b[0m\u001b[0m\n\u001b[0;32m     19\u001b[0m \u001b[1;31m# Add some text for labels, title and custom x-axis tick labels, etc.\u001b[0m\u001b[1;33m\u001b[0m\u001b[1;33m\u001b[0m\u001b[1;33m\u001b[0m\u001b[0m\n",
      "\u001b[1;31mTypeError\u001b[0m: 'module' object is not callable"
     ]
    },
    {
     "data": {
      "image/png": "[encoded data removed]",
      "text/plain": [
       "<Figure size 432x288 with 1 Axes>"
      ]
     },
     "metadata": {
      "needs_background": "light"
     },
     "output_type": "display_data"
    }
   ],
   "source": [
    "# Demo Test **********************************************************************************************************\n",
    "import matplotlib\n",
    "import matplotlib.pyplot as plt\n",
    "import numpy as np\n",
    "\n",
    "\n",
    "labels = ['Bakash', 'Nagot', 'Ucache', 'Roket']\n",
    "men_means = [55, 34, 30, 35]\n",
    "women_means = [25, 32, 34, 20]\n",
    "\n",
    "x = np.arange(len(labels))  # the label locations\n",
    "width = 0.35  # the width of the bars\n",
    "\n",
    "fig, ax = plt.subplots()\n",
    "rects1 = ax.bar(x - width/2, men_means, width, label='Positive')\n",
    "rects2 = ax.bar(x + width/2, women_means, width, label='Negative')\n",
    "plt(x=\"X\", y=[\"A\", \"B\", \"C\"], kind=\"bar\")\n",
    "\n",
    "# Add some text for labels, title and custom x-axis tick labels, etc.\n",
    "ax.set_ylabel('Number Of Datas')\n",
    "ax.set_title(' Top Finance Mobile Banking in Bangladesh')\n",
    "ax.set_xticks(x)\n",
    "ax.set_xticklabels(labels)\n",
    "ax.legend()\n",
    "\n",
    "\n",
    "def autolabel(rects):\n",
    "    \"\"\"Attach a text label above each bar in *rects*, displaying its height.\"\"\"\n",
    "    for rect in rects:\n",
    "        height = rect.get_height()\n",
    "        ax.annotate('{}'.format(height),\n",
    "                    xy=(rect.get_x() + rect.get_width() / 2, height),\n",
    "                    xytext=(0, 3),  # 3 points vertical offset\n",
    "                    textcoords=\"offset points\",\n",
    "                    ha='center', va='bottom')\n",
    "\n",
    "\n",
    "autolabel(rects1)\n",
    "autolabel(rects2)\n",
    "\n",
    "fig.tight_layout()\n",
    "\n",
    "plt.show()"
   ]
  },
  {
   "cell_type": "markdown",
   "metadata": {},
   "source": [
    "# Individual Company In Together or Group Bar Chart for Yes - SVM\n"
   ]
  },
  {
   "cell_type": "code",
   "execution_count": 62,
   "metadata": {},
   "outputs": [
    {
     "name": "stdout",
     "output_type": "stream",
     "text": [
      "['company', 'b', 'b', 'b', 'b', 'b', 'b', 'b', 'b', 'b', 'b', 'b', 'b', 'b', 'b', 'b', 'b', 'b', 'b', 'b', 'b', 'b', 'b', 'b', 'b', 'b', 'b', 'b', 'b', 'b', 'b', 'b', 'b', 'b', 'b', 'b', 'b', 'b', 'b', 'b', 'b', 'b', 'b', 'b', 'b', 'b', 'b', 'b', 'b', 'b', 'b', 'b', 'b', 'b', 'b', 'b', 'b', 'b', 'b', 'b', 'b', 'b', 'b', 'b', 'b', 'b', 'b', 'b', 'b', 'b', 'b', 'b', 'b', 'b', 'b', 'b', 'b', 'b', 'b', 'b', 'b', 'b', 'b', 'b', 'b', 'b', 'b', 'b', 'b', 'b', 'b', 'b', 'n', 'n', 'n', 'n', 'n', 'n', 'n', 'n', 'n', 'n', 'n', 'n', 'n', 'n', 'n', 'n', 'n', 'n', 'n', 'n', 'n', 'n', 'n', 'n', 'n', 'n', 'n', 'n', 'n', 'r', 'r', 'r', 'r', 'r', 'r', 'r', 'r', 'r', 'r', 'r', 'r', 'r', 'r', 'r', 'r', 'r', 'r', 'r', 'r', 'u', 'u', 'u', 'u', 'u', 'u', 'u', 'u', 'u', 'u', 'u', 'u']\n"
     ]
    }
   ],
   "source": [
    "col_names = [\"test\",\"sentiment\",\"company\"]\n",
    "datas = pd.read_csv('data_store/yes.csv',names=col_names,error_bad_lines=False)\n",
    "yes_datas = datas\n",
    "print(datas['company'].tolist())\n",
    "sentiment_datas = datas['sentiment']\n",
    "test_datas = datas['test'].tolist()\n",
    "\n"
   ]
  },
  {
   "cell_type": "code",
   "execution_count": 63,
   "metadata": {},
   "outputs": [
    {
     "name": "stdout",
     "output_type": "stream",
     "text": [
      "<class 'numpy.ndarray'>\n",
      "test Sentiment :  ['0']\n",
      "<class 'numpy.ndarray'>\n",
      "Changes are extremely high than standard.  3rd grade level security.  Sentiment :  ['0']\n",
      "<class 'numpy.ndarray'>\n",
      "Its not good Sentiment :  ['0']\n",
      "<class 'numpy.ndarray'>\n",
      "its good.  Sentiment :  ['0']\n",
      "<class 'numpy.ndarray'>\n",
      "Its good Sentiment :  ['0']\n",
      "<class 'numpy.ndarray'>\n",
      "Good Sentiment :  ['0']\n",
      "<class 'numpy.ndarray'>\n",
      "It is good. Sentiment :  ['0']\n",
      "<class 'numpy.ndarray'>\n",
      "Charge little bit high but other service is good.   Sentiment :  ['0']\n",
      "<class 'numpy.ndarray'>\n",
      "Nothing  Sentiment :  ['1']\n",
      "<class 'numpy.ndarray'>\n",
      "It's quite good. Sentiment :  ['0']\n",
      "<class 'numpy.ndarray'>\n",
      "It'sgreat   Sentiment :  ['0']\n",
      "<class 'numpy.ndarray'>\n",
      "Bkash security aren't that much secure.& the charge cost are quit increasing when a persontry to send a lot of money then they need to pay quite much amount of service charge.     Sentiment :  ['0']\n",
      "<class 'numpy.ndarray'>\n",
      "Good Sentiment :  ['0']\n",
      "<class 'numpy.ndarray'>\n",
      "Good system it but service charge is not gd,1000 tk they cute there service charge 18 tk.when it service charge 10/12 tk this is good for customers  Sentiment :  ['0']\n",
      "<class 'numpy.ndarray'>\n",
      "Excess service charge  Sentiment :  ['0']\n",
      "<class 'numpy.ndarray'>\n",
      "Its every service system is good . Sentiment :  ['0']\n",
      "<class 'numpy.ndarray'>\n",
      "It's service charge is more than other mobile financial service provider in Bangladesh. If it is less then it will be better for customer. Sentiment :  ['0']\n",
      "<class 'numpy.ndarray'>\n",
      "High Costing in service charge Sentiment :  ['0']\n",
      "<class 'numpy.ndarray'>\n",
      "Bkash is reliable  Sentiment :  ['0']\n",
      "<class 'numpy.ndarray'>\n",
      "It is very secure. Bkash app is very friendly for user. Some features of Bkash is very helpful such as money transfer from card to bkash. It needs some improvement also.  Sentiment :  ['0']\n",
      "<class 'numpy.ndarray'>\n",
      "Good Sentiment :  ['0']\n",
      "<class 'numpy.ndarray'>\n",
      "i have no bkash Sentiment :  ['0']\n",
      "<class 'numpy.ndarray'>\n",
      "it is not good because service charge is high Sentiment :  ['0']\n",
      "<class 'numpy.ndarray'>\n",
      "Customer service,  security,  availability  both are fine. But service charge is expensive.  Sentiment :  ['0']\n",
      "<class 'numpy.ndarray'>\n",
      "Service charge is too  much Sentiment :  ['0']\n",
      "<class 'numpy.ndarray'>\n",
      "Convenient & Helpful Sentiment :  ['0']\n",
      "<class 'numpy.ndarray'>\n",
      "No Sentiment :  ['0']\n",
      "<class 'numpy.ndarray'>\n",
      "Very good service but I think cashout charge should be less. Sentiment :  ['0']\n",
      "<class 'numpy.ndarray'>\n",
      "Not so good but works . Sentiment :  ['0']\n",
      "<class 'numpy.ndarray'>\n",
      "No idea Sentiment :  ['0']\n",
      "<class 'numpy.ndarray'>\n",
      "Its really fantastic  Sentiment :  ['0']\n",
      "<class 'numpy.ndarray'>\n",
      "Its really fantastic.  Sentiment :  ['0']\n",
      "<class 'numpy.ndarray'>\n",
      "i don't have any accaount  Sentiment :  ['0']\n",
      "<class 'numpy.ndarray'>\n",
      "Everything is fine without the charged amount. It should be less Sentiment :  ['0']\n",
      "<class 'numpy.ndarray'>\n",
      "yes Sentiment :  ['0']\n",
      "<class 'numpy.ndarray'>\n",
      "not good Sentiment :  ['0']\n",
      "<class 'numpy.ndarray'>\n",
      "Service is good but security is not secure, service charge is also high  Sentiment :  ['0']\n",
      "<class 'numpy.ndarray'>\n",
      "Charge is very heavy Sentiment :  ['0']\n",
      "<class 'numpy.ndarray'>\n",
      "Bad.Charge is very heavy Sentiment :  ['0']\n",
      "<class 'numpy.ndarray'>\n",
      "I am not satisfy with that . Charge is very heavy . Very good and popular in Bangladesh . It's really amazing. Sentiment :  ['0']\n",
      "<class 'numpy.ndarray'>\n",
      "It's really amazing. I am satisfy with their service.It's provide very cool service Sentiment :  ['0']\n",
      "<class 'numpy.ndarray'>\n",
      "Service charge is so high, I think bkash is exploiting people. Sentiment :  ['0']\n",
      "<class 'numpy.ndarray'>\n",
      "It's a very good service as a mobile financual service Sentiment :  ['0']\n",
      "<class 'numpy.ndarray'>\n",
      "Good and very useful.  Sentiment :  ['0']\n",
      "<class 'numpy.ndarray'>\n",
      "service is good, security is good, availability is good and service charge is much. Sentiment :  ['0']\n",
      "<class 'numpy.ndarray'>\n",
      "In the Bkash customer service, security, and also service charge are not satisfied me. Especially, here poor security and too much charges.  Sentiment :  ['0']\n",
      "<class 'numpy.ndarray'>\n",
      "Bkash is the significant medium of transaction at present time.But,it's service charge make us insatisfied.Compared to other transaction medium,it's too much costable.Besides,it's insecure. Sentiment :  ['0']\n",
      "<class 'numpy.ndarray'>\n",
      "My mobile bKash service is varey good system  Sentiment :  ['0']\n",
      "<class 'numpy.ndarray'>\n",
      "My used is bKash  service  is varey good  Sentiment :  ['0']\n",
      "<class 'numpy.ndarray'>\n",
      "The cash out rate is very high Sentiment :  ['0']\n",
      "<class 'numpy.ndarray'>\n",
      "It's really mazing . Fatastic service the provide. Sentiment :  ['0']\n",
      "<class 'numpy.ndarray'>\n",
      "Amazing Service they provide.Cool happy with their service. Sentiment :  ['0']\n",
      "<class 'numpy.ndarray'>\n",
      "Excellent service  they provide.i am really happy with their service. Sentiment :  ['0']\n",
      "<class 'numpy.ndarray'>\n",
      "Their Security is need to be strong. Like rocket as per my opinion, they can use extra digit like rocket.    Sentiment :  ['0']\n",
      "<class 'numpy.ndarray'>\n",
      "It cut tomuch money to retrieve cash Sentiment :  ['1']\n",
      "<class 'numpy.ndarray'>\n",
      "Yes but it charges too much Sentiment :  ['0']\n",
      "<class 'numpy.ndarray'>\n",
      "service charge they takes high. security is good Sentiment :  ['0']\n",
      "<class 'numpy.ndarray'>\n",
      "Should be more secure  Sentiment :  ['0']\n",
      "<class 'numpy.ndarray'>\n",
      "It is much more comfortable. Sentiment :  ['0']\n",
      "<class 'numpy.ndarray'>\n",
      "Is good Sentiment :  ['0']\n",
      "<class 'numpy.ndarray'>\n",
      "service charge is very high. Sentiment :  ['0']\n",
      "<class 'numpy.ndarray'>\n",
      "It is good services organization. but I think some problem have this system.First one cut money then no secure .  recently many people problem face to secure system.  Sentiment :  ['1']\n",
      "<class 'numpy.ndarray'>\n",
      "Yes i have some issue customer service, need to rapidl, and must be reduce service charge, including every thousands charge should be under 10 tk.         Sentiment :  ['0']\n",
      "<class 'numpy.ndarray'>\n",
      "I think it's good for everyone because everyone used it.  Sentiment :  ['0']\n",
      "<class 'numpy.ndarray'>\n",
      "Good but cash out rate is high.  Sentiment :  ['0']\n",
      "<class 'numpy.ndarray'>\n",
      "Service charge is more.   Sentiment :  ['0']\n",
      "<class 'numpy.ndarray'>\n",
      "I have no experience. Sentiment :  ['0']\n",
      "<class 'numpy.ndarray'>\n",
      "Easy to use and if user is aware then security is so far good.   Sentiment :  ['0']\n",
      "<class 'numpy.ndarray'>\n",
      "It's too much good,I think. Sentiment :  ['0']\n",
      "<class 'numpy.ndarray'>\n",
      "Customer service and availability of Bkash is good. Security seems good to me but sometimes some scammers try to create some problems which is a big concern. Also service charge is too much. In other countries, service charges are less even the new growing Nagad is charging less than Bkash. They should take this under consideration as they have a lot of users and try to reduce the service charges. Sentiment :  ['0']\n",
      "<class 'numpy.ndarray'>\n",
      "It's good. But sometimes they shut down services for verification purpose. which feel harassment   Sentiment :  ['0']\n",
      "<class 'numpy.ndarray'>\n",
      "It is very much effective   Sentiment :  ['0']\n",
      "<class 'numpy.ndarray'>\n",
      "Service search should be reduce  Sentiment :  ['0']\n",
      "<class 'numpy.ndarray'>\n",
      "Bkash has good service overall. But their transaction charge is way too high. Also their security is not up to standard. Sentiment :  ['0']\n",
      "<class 'numpy.ndarray'>\n",
      "Overall bikash is best till now Sentiment :  ['0']\n",
      "<class 'numpy.ndarray'>\n",
      "I thing security purpose is good.\n",
      "but the main issue is charge. what a charge! they cut the charge just shameful attitude.\n",
      "Most of the time we are using bkash. it is really easy for us if they cut rate our money charge so that it will better for use. Sentiment :  ['1']\n"
     ]
    },
    {
     "ename": "ValueError",
     "evalue": "invalid literal for int() with base 10: 'sentiment'",
     "output_type": "error",
     "traceback": [
      "\u001b[1;31m---------------------------------------------------------------------------\u001b[0m",
      "\u001b[1;31mValueError\u001b[0m                                Traceback (most recent call last)",
      "\u001b[1;32m<ipython-input-63-a8ade630cde6>\u001b[0m in \u001b[0;36m<module>\u001b[1;34m\u001b[0m\n\u001b[0;32m      5\u001b[0m     \u001b[0msample\u001b[0m \u001b[1;33m=\u001b[0m \u001b[0mtfidf\u001b[0m\u001b[1;33m.\u001b[0m\u001b[0mtransform\u001b[0m\u001b[1;33m(\u001b[0m\u001b[0msample\u001b[0m\u001b[1;33m)\u001b[0m\u001b[1;33m\u001b[0m\u001b[1;33m\u001b[0m\u001b[0m\n\u001b[0;32m      6\u001b[0m     \u001b[0msentiment\u001b[0m \u001b[1;33m=\u001b[0m \u001b[0mrand\u001b[0m\u001b[1;33m.\u001b[0m\u001b[0mpredict\u001b[0m\u001b[1;33m(\u001b[0m\u001b[0msample\u001b[0m\u001b[1;33m)\u001b[0m\u001b[1;33m\u001b[0m\u001b[1;33m\u001b[0m\u001b[0m\n\u001b[1;32m----> 7\u001b[1;33m     \u001b[0msentiment_datas\u001b[0m\u001b[1;33m[\u001b[0m\u001b[0mi\u001b[0m\u001b[1;33m]\u001b[0m \u001b[1;33m=\u001b[0m \u001b[0mint\u001b[0m\u001b[1;33m(\u001b[0m\u001b[0msentiment\u001b[0m\u001b[1;33m)\u001b[0m\u001b[1;33m\u001b[0m\u001b[1;33m\u001b[0m\u001b[0m\n\u001b[0m\u001b[0;32m      8\u001b[0m     \u001b[0mprint\u001b[0m\u001b[1;33m(\u001b[0m\u001b[0mtype\u001b[0m\u001b[1;33m(\u001b[0m\u001b[0msentiment\u001b[0m\u001b[1;33m)\u001b[0m\u001b[1;33m)\u001b[0m\u001b[1;33m\u001b[0m\u001b[1;33m\u001b[0m\u001b[0m\n\u001b[0;32m      9\u001b[0m     \u001b[0mprint\u001b[0m\u001b[1;33m(\u001b[0m\u001b[0mdata\u001b[0m\u001b[1;33m,\u001b[0m\u001b[1;34m\"Sentiment : \"\u001b[0m\u001b[1;33m,\u001b[0m\u001b[0msentiment\u001b[0m\u001b[1;33m)\u001b[0m\u001b[1;33m\u001b[0m\u001b[1;33m\u001b[0m\u001b[0m\n",
      "\u001b[1;31mValueError\u001b[0m: invalid literal for int() with base 10: 'sentiment'"
     ]
    }
   ],
   "source": [
    "# Sentiment Prediction  from test data\n",
    "i = 1\n",
    "for data in test_datas:\n",
    "    sample = [data]\n",
    "    sample = tfidf.transform(sample)\n",
    "    sentiment = rand.predict(sample)\n",
    "    sentiment_datas[i] = int(sentiment)\n",
    "    print(type(sentiment))\n",
    "    print(data,\"Sentiment : \",sentiment)\n",
    "    i = i+1"
   ]
  },
  {
   "cell_type": "code",
   "execution_count": 64,
   "metadata": {},
   "outputs": [
    {
     "name": "stdout",
     "output_type": "stream",
     "text": [
      "['company', 'b', 'b', 'b', 'b', 'b', 'b', 'b', 'b', 'b', 'b', 'b', 'b', 'b', 'b', 'b', 'b', 'b', 'b', 'b', 'b', 'b', 'b', 'b', 'b', 'b', 'b', 'b', 'b', 'b', 'b', 'b', 'b', 'b', 'b', 'b', 'b', 'b', 'b', 'b', 'b', 'b', 'b', 'b', 'b', 'b', 'b', 'b', 'b', 'b', 'b', 'b', 'b', 'b', 'b', 'b', 'b', 'b', 'b', 'b', 'b', 'b', 'b', 'b', 'b', 'b', 'b', 'b', 'b', 'b', 'b', 'b', 'b', 'b', 'b', 'b', 'b', 'b', 'b', 'b', 'b', 'b', 'b', 'b', 'b', 'b', 'b', 'b', 'b', 'b', 'b', 'b', 'n', 'n', 'n', 'n', 'n', 'n', 'n', 'n', 'n', 'n', 'n', 'n', 'n', 'n', 'n', 'n', 'n', 'n', 'n', 'n', 'n', 'n', 'n', 'n', 'n', 'n', 'n', 'n', 'n', 'r', 'r', 'r', 'r', 'r', 'r', 'r', 'r', 'r', 'r', 'r', 'r', 'r', 'r', 'r', 'r', 'r', 'r', 'r', 'r', 'u', 'u', 'u', 'u', 'u', 'u', 'u', 'u', 'u', 'u', 'u', 'u']\n",
      "<class 'pandas.core.series.Series'>\n"
     ]
    }
   ],
   "source": [
    "print(datas['company'].tolist())\n",
    "print(type(datas['sentiment']))"
   ]
  },
  {
   "cell_type": "code",
   "execution_count": 65,
   "metadata": {
    "scrolled": true
   },
   "outputs": [
    {
     "name": "stdout",
     "output_type": "stream",
     "text": [
      "72\n",
      "4\n"
     ]
    }
   ],
   "source": [
    "positive_b = []\n",
    "negative_b = []\n",
    "positive_r = []\n",
    "negative_r = []\n",
    "positive_n = []\n",
    "negative_n = []\n",
    "positive_u = []\n",
    "negative_u = []\n",
    "hello = \"Yes\"\n",
    "\n",
    "# for bakash\n",
    "i = 1\n",
    "for c in datas['company']:\n",
    "    \n",
    "#         print(type(c))\n",
    "    if c == 'b':\n",
    "#         print(datas['company'][i])\n",
    "        if  datas['sentiment'][i] == 1 :\n",
    "            negative_b.append(1)\n",
    "            i =i+1\n",
    "\n",
    "        elif datas['sentiment'][i] == 0:\n",
    "            positive_b.append(0)  \n",
    "\n",
    "            i= i+1\n",
    "            \n",
    "# For Rocket            \n",
    "            \n",
    "i = 1\n",
    "for c in datas['company']:\n",
    "    \n",
    "#         print(type(c))\n",
    "    if c == 'r':\n",
    "#         print(datas['company'][i])\n",
    "        if  datas['sentiment'][i] == 1 :\n",
    "            negative_r.append(1)\n",
    "            i =i+1\n",
    "\n",
    "        elif datas['sentiment'][i] == 0:\n",
    "            positive_r.append(0)  \n",
    "            i= i+1\n",
    "# For Nogot            \n",
    "            \n",
    "i = 1\n",
    "for c in datas['company']:\n",
    "    \n",
    "#         print(type(c))\n",
    "    if c == 'n':\n",
    "#         print(datas['company'][i])\n",
    "        if  datas['sentiment'][i] == 1 :\n",
    "            negative_n.append(1)\n",
    "            i =i+1\n",
    "\n",
    "        elif datas['sentiment'][i] == 0:\n",
    "            positive_n.append(0)  \n",
    "            i= i+1\n",
    "\n",
    "# For Ucache            \n",
    "            \n",
    "i = 1\n",
    "for c in datas['company']:\n",
    "    \n",
    "#         print(type(c))\n",
    "    if c == 'u':\n",
    "#         print(datas['company'][i])\n",
    "        if  datas['sentiment'][i] == 1 :\n",
    "            negative_u.append(1)\n",
    "            i =i+1\n",
    "\n",
    "        elif datas['sentiment'][i] == 0:\n",
    "            positive_u.append(0)  \n",
    "            i= i+1\n",
    "\n",
    "\n",
    "    \n",
    "print(len(positive_b))\n",
    "print(len(negative_b))\n",
    "# print(i)\n",
    "# print(datas['sentiment'].tolist()[10])\n",
    "positive_yb = positive_b\n",
    "negative_yb = negative_b\n",
    "positive_yr = positive_r\n",
    "negative_yr = negative_r\n",
    "positive_yn = positive_n\n",
    "negative_yn = negative_n\n",
    "positive_yu = positive_u\n",
    "negative_yu = negative_u"
   ]
  },
  {
   "cell_type": "code",
   "execution_count": 66,
   "metadata": {},
   "outputs": [
    {
     "name": "stdout",
     "output_type": "stream",
     "text": [
      "19\n",
      "1\n"
     ]
    }
   ],
   "source": [
    "print(len(positive_r))\n",
    "print(len(negative_r))"
   ]
  },
  {
   "cell_type": "markdown",
   "metadata": {},
   "source": [
    "# Group Bar Chart for individual SVM  YES"
   ]
  },
  {
   "cell_type": "code",
   "execution_count": 67,
   "metadata": {},
   "outputs": [
    {
     "name": "stdout",
     "output_type": "stream",
     "text": [
      "94.73684210526316\n",
      "5.2631578947368425\n"
     ]
    },
    {
     "data": {
      "image/png": "[encoded data removed]",
      "text/plain": [
       "<Figure size 432x288 with 1 Axes>"
      ]
     },
     "metadata": {
      "needs_background": "light"
     },
     "output_type": "display_data"
    }
   ],
   "source": [
    "import matplotlib\n",
    "import matplotlib.pyplot as plt\n",
    "import numpy as np\n",
    "\n",
    "\n",
    "labels = ['Bakash', 'Nagad', 'SureCash', 'Rocket']\n",
    "\n",
    "# Calculating Percentage Positive\n",
    "bp_p = (len(positive_b) * 100)/(len(positive_b)+len(negative_b))\n",
    "np_p = (len(positive_n) * 100)/(len(positive_n)+len(negative_n))\n",
    "up_p = (len(positive_u) * 100)/(len(positive_u)+len(negative_u))\n",
    "rp_p = (len(positive_r) * 100)/(len(positive_r)+len(negative_r))\n",
    "print(bp_p)\n",
    "\n",
    "# Calculating Percentage Negative\n",
    "bn_p = (len(negative_b) * 100)/(len(positive_b)+len(negative_b))\n",
    "nn_p = (len(negative_n) * 100)/(len(positive_n)+len(negative_n))\n",
    "un_p = (len(negative_u) * 100)/(len(positive_u)+len(negative_u))\n",
    "rn_p = (len(negative_r) * 100)/(len(positive_r)+len(negative_r))\n",
    "print(bn_p)\n",
    "\n",
    "positive_bar = [round(bp_p), round(np_p), round(up_p), round(rp_p)]\n",
    "negative_bar = [round(bn_p), round(nn_p), round(un_p), round(rn_p)]\n",
    "\n",
    "x = np.arange(len(labels))  # the label locations\n",
    "width = 0.35  # the width of the bars\n",
    "\n",
    "fig, ax = plt.subplots()\n",
    "positive = ax.bar(x - width/2, positive_bar, width, label='Positive')\n",
    "negative = ax.bar(x + width/2, negative_bar, width, label='Negative')\n",
    "\n",
    "# Add some text for labels, title and custom x-axis tick labels, etc.\n",
    "ax.set_ylabel('Parcentage')\n",
    "ax.set_title(' Top Finance Mobile Banking in Bangladesh Used ')\n",
    "ax.set_xticks(x)\n",
    "ax.set_xticklabels(labels)\n",
    "ax.legend()\n",
    "\n",
    "\n",
    "def autolabel(rects):\n",
    "    \"\"\"Attach a text label above each bar in *rects*, displaying its height.\"\"\"\n",
    "    for rect in rects:\n",
    "        height = rect.get_height()\n",
    "        ax.annotate('{}'.format(height),\n",
    "                    xy=(rect.get_x() + rect.get_width() / 2, height),\n",
    "                    xytext=(0, 5),  # 3 points vertical offset\n",
    "                    textcoords=\"offset points\",\n",
    "                    ha='center', va='bottom')\n",
    "\n",
    "\n",
    "autolabel(positive)\n",
    "autolabel(negative)\n",
    "\n",
    "fig.tight_layout()\n",
    "\n",
    "plt.show()"
   ]
  },
  {
   "cell_type": "markdown",
   "metadata": {},
   "source": [
    "# Individual Company In Together or Group Bar Chart for NO SVM\n"
   ]
  },
  {
   "cell_type": "code",
   "execution_count": 68,
   "metadata": {},
   "outputs": [
    {
     "name": "stdout",
     "output_type": "stream",
     "text": [
      "['company', 'b', 'b', 'b', 'b', 'b', 'b', 'b', 'b', 'b', 'b', 'b', 'b', 'b', 'b', 'b', 'b', 'b', 'b', 'b', 'b', 'b', 'b', 'b', 'b', 'b', 'b', 'b', 'b', 'b', 'b', 'b', 'b', 'b', 'b', 'b', 'b', 'b', 'b', 'b', 'b', 'b', 'b', 'b', 'b', 'b', 'b', 'b', 'b', 'b', 'b', 'b', 'b', 'b', 'b', 'b', 'b', 'b', 'n', 'n', 'n', 'n', 'n', 'n', 'n', 'n', 'n', 'n', 'n', 'n', 'n', 'n', 'n', 'n', 'n', 'n', 'n', 'n', 'n', 'n', 'n', 'n', 'n', 'n', 'n', 'n', 'n', 'n', 'n', 'n', 'n', 'n', 'n', 'n', 'n', 'n', 'n', 'n', 'n', 'n', 'n', 'n', 'n', 'n', 'n', 'n', 'n', 'n', 'n', 'n', 'n', 'n', 'n', 'n', 'n', 'n', 'n', 'n', 'n', 'n', 'n', 'n', 'n', 'r', 'r', 'r', 'r', 'r', 'r', 'r', 'r', 'r', 'r', 'r', 'r', 'r', 'r', 'r', 'r', 'r', 'r', 'r', 'u', 'u', 'u', 'u', 'u', 'u', 'u', 'u', 'u', 'u', 'u', 'u', 'u', 'u']\n"
     ]
    }
   ],
   "source": [
    "col_names = [\"test\",\"sentiment\",\"company\"]\n",
    "datas = pd.read_csv('data_store/no.csv',names=col_names,error_bad_lines=False)\n",
    "no_datas = datas\n",
    "print(datas['company'].tolist())\n",
    "sentiment_datas = datas['sentiment']\n",
    "test_datas = datas['test'].tolist()\n"
   ]
  },
  {
   "cell_type": "code",
   "execution_count": null,
   "metadata": {},
   "outputs": [],
   "source": []
  },
  {
   "cell_type": "code",
   "execution_count": 69,
   "metadata": {},
   "outputs": [
    {
     "name": "stdout",
     "output_type": "stream",
     "text": [
      "<class 'numpy.ndarray'>\n",
      "test Sentiment :  ['0']\n",
      "<class 'numpy.ndarray'>\n",
      "They provide a good service. I am happy with there service Sentiment :  ['0']\n",
      "<class 'numpy.ndarray'>\n",
      "Test Bikash Data Sentiment :  ['0']\n",
      "<class 'numpy.ndarray'>\n",
      "Very Good Service Sentiment :  ['0']\n",
      "<class 'numpy.ndarray'>\n",
      "service is good, security is good, availability is good .Very Good service Sentiment :  ['0']\n",
      "<class 'numpy.ndarray'>\n",
      "I really happy with there service. They provide a great security service and nice looking app. Easy to use and shop is available every where. Sentiment :  ['0']\n",
      "<class 'numpy.ndarray'>\n",
      "Yes, Bkash sequrity is very high and their service is so comfortable.I used Bkash for about three month. Sentiment :  ['0']\n",
      "<class 'numpy.ndarray'>\n",
      "Its doing good  Sentiment :  ['0']\n",
      "<class 'numpy.ndarray'>\n",
      "service,security& availability is good. I think if the service charge is lees then it can be more helpful. Sentiment :  ['0']\n",
      "<class 'numpy.ndarray'>\n",
      "Customers service is good but cash out charge little be high. Sentiment :  ['0']\n",
      "<class 'numpy.ndarray'>\n",
      "its really helpful for human life Sentiment :  ['0']\n",
      "<class 'numpy.ndarray'>\n",
      "Helpful Sentiment :  ['0']\n",
      "<class 'numpy.ndarray'>\n",
      "it's good but in this bad moment they are taking service fee for personal money share that is very bad thing they are doing. Sentiment :  ['0']\n",
      "<class 'numpy.ndarray'>\n",
      "Good Sentiment :  ['0']\n",
      "<class 'numpy.ndarray'>\n",
      "Customers service is not good, security averag,  availability is good, service charge is high not good for all.          Sentiment :  ['0']\n",
      "<class 'numpy.ndarray'>\n",
      "not good Sentiment :  ['0']\n",
      "<class 'numpy.ndarray'>\n",
      "Good Sentiment :  ['0']\n",
      "<class 'numpy.ndarray'>\n",
      "Considering customer service, security, availability, and service charge what is your opinion on Bkash as a mobile financial service (MFS) provider in Bangladesh? Sentiment :  ['0']\n",
      "<class 'numpy.ndarray'>\n",
      "Considering customer service, security, availability, and service charge what is your opinion on Rocket as a mobile financial service (MFS) provider in Bangladesh? Sentiment :  ['0']\n",
      "<class 'numpy.ndarray'>\n",
      "They provide a good service. I am happy with there service Sentiment :  ['0']\n",
      "<class 'numpy.ndarray'>\n",
      "They provide a good service. I am happy with there service  Sentiment :  ['0']\n",
      "<class 'numpy.ndarray'>\n",
      "Rocket is very good in terms of security,service charge but availability should be increase. Sentiment :  ['0']\n",
      "<class 'numpy.ndarray'>\n",
      "Rocket is very good in terms of security,service charge but availability should be increase. Sentiment :  ['0']\n",
      "<class 'numpy.ndarray'>\n",
      "I really happy with there service. They provide a great security service and nice looking app. Easy to use and shop is available every where. Sentiment :  ['0']\n",
      "<class 'numpy.ndarray'>\n",
      "Yes, Like as Bkash,Rocket sequrity is also very high and their service is so comfortable.I used Bkash for about three month. Sentiment :  ['0']\n",
      "<class 'numpy.ndarray'>\n",
      "They are also good but need more update like bkash  Sentiment :  ['0']\n",
      "<class 'numpy.ndarray'>\n",
      "i haven't use it yet. so i don't know about it . Sentiment :  ['0']\n",
      "<class 'numpy.ndarray'>\n",
      "Rocket customers service is good also security is high more then bkash.But not available in rural area as like bkash Sentiment :  ['0']\n",
      "<class 'numpy.ndarray'>\n",
      "its really helpful for human life Sentiment :  ['0']\n",
      "<class 'numpy.ndarray'>\n",
      "Changes are extremely high than standard.  3rd+ grade level security.  Sentiment :  ['0']\n",
      "<class 'numpy.ndarray'>\n",
      "Rocket is very good in terms of security,service charge but availability should be increase. Sentiment :  ['0']\n",
      "<class 'numpy.ndarray'>\n",
      "Changes are extremely high than standard.  3rd+ grade level security. Rocket is very good in terms of security,service charge but availability should be increase. Sentiment :  ['0']\n",
      "<class 'numpy.ndarray'>\n",
      "No idea about it.  Sentiment :  ['1']\n",
      "<class 'numpy.ndarray'>\n",
      "Rocket is very good in terms of security,service charge but availability should be increase. Sentiment :  ['0']\n",
      "<class 'numpy.ndarray'>\n",
      "Good Sentiment :  ['0']\n",
      "<class 'numpy.ndarray'>\n",
      "I did not use it.   Sentiment :  ['0']\n",
      "<class 'numpy.ndarray'>\n",
      "Changes are extremely high than standard.  3rd+ grade level security.  Sentiment :  ['0']\n",
      "<class 'numpy.ndarray'>\n",
      "Did not use  Sentiment :  ['0']\n",
      "<class 'numpy.ndarray'>\n",
      "Don't know  Sentiment :  ['0']\n",
      "<class 'numpy.ndarray'>\n",
      "nothing Sentiment :  ['1']\n",
      "<class 'numpy.ndarray'>\n",
      "Good Sentiment :  ['0']\n",
      "<class 'numpy.ndarray'>\n",
      "I don't know   Sentiment :  ['0']\n",
      "<class 'numpy.ndarray'>\n",
      "Not available agent as like bKash.... Thats is proble.   Sentiment :  ['0']\n",
      "<class 'numpy.ndarray'>\n",
      "Nothing Sentiment :  ['1']\n",
      "<class 'numpy.ndarray'>\n",
      "I haven't used it. Sentiment :  ['0']\n",
      "<class 'numpy.ndarray'>\n",
      "Not alwaysavailable   Sentiment :  ['0']\n",
      "<class 'numpy.ndarray'>\n",
      "I did not  even used  it yet..so cannot say anything about it    Sentiment :  ['0']\n",
      "<class 'numpy.ndarray'>\n",
      "Rocket is very good in terms of security,service charge but availability should be increase. Sentiment :  ['0']\n",
      "<class 'numpy.ndarray'>\n",
      "Rocket is very good in terms of security,service charge but availability should be increase. Sentiment :  ['0']\n",
      "<class 'numpy.ndarray'>\n",
      "Excess customers service  Sentiment :  ['0']\n",
      "<class 'numpy.ndarray'>\n",
      "Its every service system is good . Sentiment :  ['0']\n",
      "<class 'numpy.ndarray'>\n",
      "I didn't using this. so I don't have any opinion about this. Sentiment :  ['0']\n"
     ]
    },
    {
     "ename": "ValueError",
     "evalue": "invalid literal for int() with base 10: 'sentiment'",
     "output_type": "error",
     "traceback": [
      "\u001b[1;31m---------------------------------------------------------------------------\u001b[0m",
      "\u001b[1;31mValueError\u001b[0m                                Traceback (most recent call last)",
      "\u001b[1;32m<ipython-input-69-a8ade630cde6>\u001b[0m in \u001b[0;36m<module>\u001b[1;34m\u001b[0m\n\u001b[0;32m      5\u001b[0m     \u001b[0msample\u001b[0m \u001b[1;33m=\u001b[0m \u001b[0mtfidf\u001b[0m\u001b[1;33m.\u001b[0m\u001b[0mtransform\u001b[0m\u001b[1;33m(\u001b[0m\u001b[0msample\u001b[0m\u001b[1;33m)\u001b[0m\u001b[1;33m\u001b[0m\u001b[1;33m\u001b[0m\u001b[0m\n\u001b[0;32m      6\u001b[0m     \u001b[0msentiment\u001b[0m \u001b[1;33m=\u001b[0m \u001b[0mrand\u001b[0m\u001b[1;33m.\u001b[0m\u001b[0mpredict\u001b[0m\u001b[1;33m(\u001b[0m\u001b[0msample\u001b[0m\u001b[1;33m)\u001b[0m\u001b[1;33m\u001b[0m\u001b[1;33m\u001b[0m\u001b[0m\n\u001b[1;32m----> 7\u001b[1;33m     \u001b[0msentiment_datas\u001b[0m\u001b[1;33m[\u001b[0m\u001b[0mi\u001b[0m\u001b[1;33m]\u001b[0m \u001b[1;33m=\u001b[0m \u001b[0mint\u001b[0m\u001b[1;33m(\u001b[0m\u001b[0msentiment\u001b[0m\u001b[1;33m)\u001b[0m\u001b[1;33m\u001b[0m\u001b[1;33m\u001b[0m\u001b[0m\n\u001b[0m\u001b[0;32m      8\u001b[0m     \u001b[0mprint\u001b[0m\u001b[1;33m(\u001b[0m\u001b[0mtype\u001b[0m\u001b[1;33m(\u001b[0m\u001b[0msentiment\u001b[0m\u001b[1;33m)\u001b[0m\u001b[1;33m)\u001b[0m\u001b[1;33m\u001b[0m\u001b[1;33m\u001b[0m\u001b[0m\n\u001b[0;32m      9\u001b[0m     \u001b[0mprint\u001b[0m\u001b[1;33m(\u001b[0m\u001b[0mdata\u001b[0m\u001b[1;33m,\u001b[0m\u001b[1;34m\"Sentiment : \"\u001b[0m\u001b[1;33m,\u001b[0m\u001b[0msentiment\u001b[0m\u001b[1;33m)\u001b[0m\u001b[1;33m\u001b[0m\u001b[1;33m\u001b[0m\u001b[0m\n",
      "\u001b[1;31mValueError\u001b[0m: invalid literal for int() with base 10: 'sentiment'"
     ]
    }
   ],
   "source": [
    "# Sentiment Prediction  from test data\n",
    "i = 1\n",
    "for data in test_datas:\n",
    "    sample = [data]\n",
    "    sample = tfidf.transform(sample)\n",
    "    sentiment = rand.predict(sample)\n",
    "    sentiment_datas[i] = int(sentiment)\n",
    "    print(type(sentiment))\n",
    "    print(data,\"Sentiment : \",sentiment)\n",
    "    i = i+1"
   ]
  },
  {
   "cell_type": "code",
   "execution_count": null,
   "metadata": {},
   "outputs": [],
   "source": []
  },
  {
   "cell_type": "code",
   "execution_count": 70,
   "metadata": {},
   "outputs": [
    {
     "name": "stdout",
     "output_type": "stream",
     "text": [
      "['company', 'b', 'b', 'b', 'b', 'b', 'b', 'b', 'b', 'b', 'b', 'b', 'b', 'b', 'b', 'b', 'b', 'b', 'b', 'b', 'b', 'b', 'b', 'b', 'b', 'b', 'b', 'b', 'b', 'b', 'b', 'b', 'b', 'b', 'b', 'b', 'b', 'b', 'b', 'b', 'b', 'b', 'b', 'b', 'b', 'b', 'b', 'b', 'b', 'b', 'b', 'b', 'b', 'b', 'b', 'b', 'b', 'b', 'n', 'n', 'n', 'n', 'n', 'n', 'n', 'n', 'n', 'n', 'n', 'n', 'n', 'n', 'n', 'n', 'n', 'n', 'n', 'n', 'n', 'n', 'n', 'n', 'n', 'n', 'n', 'n', 'n', 'n', 'n', 'n', 'n', 'n', 'n', 'n', 'n', 'n', 'n', 'n', 'n', 'n', 'n', 'n', 'n', 'n', 'n', 'n', 'n', 'n', 'n', 'n', 'n', 'n', 'n', 'n', 'n', 'n', 'n', 'n', 'n', 'n', 'n', 'n', 'n', 'r', 'r', 'r', 'r', 'r', 'r', 'r', 'r', 'r', 'r', 'r', 'r', 'r', 'r', 'r', 'r', 'r', 'r', 'r', 'u', 'u', 'u', 'u', 'u', 'u', 'u', 'u', 'u', 'u', 'u', 'u', 'u', 'u']\n",
      "<class 'pandas.core.series.Series'>\n"
     ]
    }
   ],
   "source": [
    "print(datas['company'].tolist())\n",
    "print(type(datas['sentiment']))"
   ]
  },
  {
   "cell_type": "code",
   "execution_count": 71,
   "metadata": {},
   "outputs": [
    {
     "name": "stdout",
     "output_type": "stream",
     "text": [
      "49\n",
      "3\n"
     ]
    }
   ],
   "source": [
    "positive_b = []\n",
    "negative_b = []\n",
    "positive_r = []\n",
    "negative_r = []\n",
    "positive_n = []\n",
    "negative_n = []\n",
    "positive_u = []\n",
    "negative_u = []\n",
    "hello = \"Yes\"\n",
    "\n",
    "# for bakash\n",
    "i = 1\n",
    "for c in datas['company']:\n",
    "    \n",
    "#         print(type(c))\n",
    "    if c == 'b':\n",
    "#         print(datas['company'][i])\n",
    "        if  datas['sentiment'][i] == 1 :\n",
    "            negative_b.append(1)\n",
    "            i =i+1\n",
    "\n",
    "        elif datas['sentiment'][i] == 0:\n",
    "            positive_b.append(0)  \n",
    "            i= i+1\n",
    "            \n",
    "# For Rocket            \n",
    "            \n",
    "i = 1\n",
    "for c in datas['company']:\n",
    "    \n",
    "#         print(type(c))\n",
    "    if c == 'r':\n",
    "#         print(datas['company'][i])\n",
    "        if  datas['sentiment'][i] == 1 :\n",
    "            negative_r.append(1)\n",
    "            i =i+1\n",
    "\n",
    "        elif datas['sentiment'][i] == 0:\n",
    "            positive_r.append(0)  \n",
    "            i= i+1\n",
    "# For Nogot            \n",
    "            \n",
    "i = 1\n",
    "for c in datas['company']:\n",
    "    \n",
    "#         print(type(c))\n",
    "    if c == 'n':\n",
    "#         print(datas['company'][i])\n",
    "        if  datas['sentiment'][i] == 1 :\n",
    "            negative_n.append(1)\n",
    "            i =i+1\n",
    "\n",
    "        elif datas['sentiment'][i] == 0:\n",
    "            positive_n.append(0)  \n",
    "            i= i+1\n",
    "\n",
    "# For Ucache            \n",
    "            \n",
    "i = 1\n",
    "for c in datas['company']:\n",
    "    \n",
    "#         print(type(c))\n",
    "    if c == 'u':\n",
    "#         print(datas['company'][i])\n",
    "        if  datas['sentiment'][i] == 1 :\n",
    "            negative_u.append(1)\n",
    "            i =i+1\n",
    "\n",
    "        elif datas['sentiment'][i] == 0:\n",
    "            positive_u.append(0)  \n",
    "            i= i+1\n",
    "\n",
    "\n",
    "\n",
    "    \n",
    "print(len(positive_b))\n",
    "print(len(negative_b))\n",
    "# print(i)\n",
    "# print(datas['sentiment'].tolist()[10])\n",
    "\n",
    "positive_nb = positive_b\n",
    "negative_nb = negative_b\n",
    "positive_nr = positive_r\n",
    "negative_nr = negative_r\n",
    "positive_nn = positive_n\n",
    "negative_nn = negative_n\n",
    "positive_nu = positive_u\n",
    "negative_nu = negative_u"
   ]
  },
  {
   "cell_type": "code",
   "execution_count": 72,
   "metadata": {},
   "outputs": [
    {
     "name": "stdout",
     "output_type": "stream",
     "text": [
      "19\n",
      "0\n"
     ]
    }
   ],
   "source": [
    "print(len(positive_r))\n",
    "print(len(negative_r))"
   ]
  },
  {
   "cell_type": "markdown",
   "metadata": {},
   "source": [
    "# Group Bar Chart for individual SVM No"
   ]
  },
  {
   "cell_type": "code",
   "execution_count": 73,
   "metadata": {},
   "outputs": [
    {
     "name": "stdout",
     "output_type": "stream",
     "text": [
      "94.23076923076923\n",
      "5.769230769230769\n"
     ]
    },
    {
     "data": {
      "image/png": "[encoded data removed]",
      "text/plain": [
       "<Figure size 432x288 with 1 Axes>"
      ]
     },
     "metadata": {
      "needs_background": "light"
     },
     "output_type": "display_data"
    }
   ],
   "source": [
    "import matplotlib\n",
    "import matplotlib.pyplot as plt\n",
    "import numpy as np\n",
    "\n",
    "\n",
    "labels = ['Bakash', 'Nagad', 'SureCash', 'Rocket']\n",
    "\n",
    "# Calculating Percentage Positive\n",
    "bp_p = (len(positive_b) * 100)/(len(positive_b)+len(negative_b))\n",
    "np_p = (len(positive_n) * 100)/(len(positive_n)+len(negative_n))\n",
    "up_p = (len(positive_u) * 100)/(len(positive_u)+len(negative_u))\n",
    "rp_p = (len(positive_r) * 100)/(len(positive_r)+len(negative_r))\n",
    "print(bp_p)\n",
    "\n",
    "# Calculating Percentage Negative\n",
    "bn_p = (len(negative_b) * 100)/(len(positive_b)+len(negative_b))\n",
    "nn_p = (len(negative_n) * 100)/(len(positive_n)+len(negative_n))\n",
    "un_p = (len(negative_u) * 100)/(len(positive_u)+len(negative_u))\n",
    "rn_p = (len(negative_r) * 100)/(len(positive_r)+len(negative_r))\n",
    "print(bn_p)\n",
    "\n",
    "positive_bar = [round(bp_p), round(np_p), round(up_p), round(rp_p)]\n",
    "negative_bar = [round(bn_p), round(nn_p), round(un_p), round(rn_p)]\n",
    "\n",
    "x = np.arange(len(labels))  # the label locations\n",
    "width = 0.35  # the width of the bars\n",
    "\n",
    "fig, ax = plt.subplots()\n",
    "positive = ax.bar(x - width/2, positive_bar, width, label='Positive')\n",
    "negative = ax.bar(x + width/2, negative_bar, width, label='Negative')\n",
    "\n",
    "# Add some text for labels, title and custom x-axis tick labels, etc.\n",
    "ax.set_ylabel('Number Of Datas')\n",
    "ax.set_title('  Top Finance Mobile Banking in Bangladesh No Selected')\n",
    "ax.set_xticks(x)\n",
    "ax.set_xticklabels(labels)\n",
    "ax.legend()\n",
    "\n",
    "\n",
    "def autolabel(rects):\n",
    "    \"\"\"Attach a text label above each bar in *rects*, displaying its height.\"\"\"\n",
    "    for rect in rects:\n",
    "        height = rect.get_height()\n",
    "        ax.annotate('{}'.format(height),\n",
    "                    xy=(rect.get_x() + rect.get_width() / 2, height),\n",
    "                    xytext=(0, 3),  # 3 points vertical offset\n",
    "                    textcoords=\"offset points\",\n",
    "                    ha='center', va='bottom')\n",
    "\n",
    "\n",
    "autolabel(positive)\n",
    "autolabel(negative)\n",
    "\n",
    "fig.tight_layout()\n",
    "\n",
    "plt.show()"
   ]
  },
  {
   "cell_type": "code",
   "execution_count": null,
   "metadata": {},
   "outputs": [],
   "source": []
  },
  {
   "cell_type": "markdown",
   "metadata": {},
   "source": [
    "# END Individual  Company In Together or Group Bar Chart for NO  SVM\n"
   ]
  },
  {
   "cell_type": "markdown",
   "metadata": {},
   "source": [
    "# start  all (no-yes) all  - Using  SVM\n"
   ]
  },
  {
   "cell_type": "code",
   "execution_count": 74,
   "metadata": {},
   "outputs": [],
   "source": [
    "positive_tb = len(positive_yb) + len(positive_nb)\n",
    "negative_tb = len(negative_yb) + len(negative_nb)\n",
    "positive_tr = len(positive_yr) + len(positive_nr)\n",
    "negative_tr = len(negative_yr) + len(negative_nr)\n",
    "positive_tn = len(positive_yn) + len(positive_nn)\n",
    "negative_tn = len(negative_yn) + len(negative_nn)\n",
    "positive_tu = len(positive_yu) + len(positive_nu)\n",
    "negative_tu = len(negative_yu) + len(negative_nu)\n"
   ]
  },
  {
   "cell_type": "code",
   "execution_count": 75,
   "metadata": {},
   "outputs": [
    {
     "name": "stdout",
     "output_type": "stream",
     "text": [
      "1\n"
     ]
    }
   ],
   "source": [
    "print(negative_tr)"
   ]
  },
  {
   "cell_type": "code",
   "execution_count": 76,
   "metadata": {},
   "outputs": [
    {
     "ename": "NameError",
     "evalue": "name 'all_datas' is not defined",
     "output_type": "error",
     "traceback": [
      "\u001b[1;31m---------------------------------------------------------------------------\u001b[0m",
      "\u001b[1;31mNameError\u001b[0m                                 Traceback (most recent call last)",
      "\u001b[1;32m<ipython-input-76-bd98d836833b>\u001b[0m in \u001b[0;36m<module>\u001b[1;34m\u001b[0m\n\u001b[1;32m----> 1\u001b[1;33m \u001b[0mprint\u001b[0m\u001b[1;33m(\u001b[0m\u001b[0mall_datas\u001b[0m\u001b[1;33m[\u001b[0m\u001b[1;34m'sentiment'\u001b[0m\u001b[1;33m]\u001b[0m\u001b[1;33m.\u001b[0m\u001b[0mtolist\u001b[0m\u001b[1;33m(\u001b[0m\u001b[1;33m)\u001b[0m\u001b[1;33m)\u001b[0m\u001b[1;33m\u001b[0m\u001b[1;33m\u001b[0m\u001b[0m\n\u001b[0m",
      "\u001b[1;31mNameError\u001b[0m: name 'all_datas' is not defined"
     ]
    }
   ],
   "source": [
    "print(all_datas['sentiment'].tolist())"
   ]
  },
  {
   "cell_type": "code",
   "execution_count": null,
   "metadata": {},
   "outputs": [],
   "source": []
  },
  {
   "cell_type": "markdown",
   "metadata": {},
   "source": [
    "# Full Result For Who Selected YES / NO ********************************** SVM Machine Learning Algorithm\n"
   ]
  },
  {
   "cell_type": "code",
   "execution_count": 77,
   "metadata": {},
   "outputs": [
    {
     "name": "stdout",
     "output_type": "stream",
     "text": [
      "94.23076923076923\n"
     ]
    },
    {
     "data": {
      "image/png": "[encoded data removed]",
      "text/plain": [
       "<Figure size 432x288 with 1 Axes>"
      ]
     },
     "metadata": {
      "needs_background": "light"
     },
     "output_type": "display_data"
    }
   ],
   "source": [
    "# Full Result For Who Selected YES / NO ********************************** SVM Machine Learning Algorithm\n",
    "import matplotlib\n",
    "import matplotlib.pyplot as plt\n",
    "import numpy as np\n",
    "\n",
    "\n",
    "labels = ['Bakash', 'Nagad', 'SureCash', 'Rocket']\n",
    "\n",
    "\n",
    "# Calculating Percentage Positive\n",
    "tbp_p = (positive_tb * 100)/(positive_tb+negative_tb)\n",
    "tnp_p = (positive_tn * 100)/(positive_tn+negative_tn)\n",
    "tup_p = (positive_tu * 100)/(positive_tu+negative_tu)\n",
    "trp_p = (positive_tr * 100)/(positive_tr+negative_tu)\n",
    "print(bp_p)\n",
    "\n",
    "# Calculating Percentage Negative\n",
    "tbn_p = (negative_tb * 100)/(positive_tb+negative_tb)\n",
    "tnn_p = (negative_tn * 100)/(positive_tn+negative_tn)\n",
    "tun_p = (negative_tu * 100)/(positive_tu+negative_tu)\n",
    "trn_p = (negative_tu * 100)/(positive_tr+negative_tu)\n",
    "\n",
    "\n",
    "men_means = [round(tbp_p), round(tnp_p), round(tup_p), round(trp_p)]\n",
    "women_means = [round(tbn_p), round(tnn_p), round(tun_p), round(trn_p)]\n",
    "\n",
    "x = np.arange(len(labels))  # the label locations\n",
    "width = 0.35  # the width of the bars\n",
    "\n",
    "fig, ax = plt.subplots()\n",
    "positive = ax.bar(x - width/2, men_means, width, label='Positive')\n",
    "negative = ax.bar(x + width/2, women_means, width, label='Negative')\n",
    "\n",
    "# Add some text for labels, title and custom x-axis tick labels, etc.\n",
    "ax.set_ylabel('Parcentage')\n",
    "ax.set_title('  Top Finance Mobile Banking in Bangladesh Yes/No All Selected')\n",
    "ax.set_xticks(x)\n",
    "ax.set_xticklabels(labels)\n",
    "ax.legend()\n",
    "\n",
    "\n",
    "def autolabel(rects):\n",
    "    \"\"\"Attach a text label above each bar in *rects*, displaying its height.\"\"\"\n",
    "    for rect in rects:\n",
    "        height = rect.get_height()\n",
    "        ax.annotate('{}'.format(height),\n",
    "                    xy=(rect.get_x() + rect.get_width() / 2, height),\n",
    "                    xytext=(0, 3),  # 3 points vertical offset\n",
    "                    textcoords=\"offset points\",\n",
    "                    ha='center', va='bottom')\n",
    "\n",
    "\n",
    "autolabel(positive)\n",
    "autolabel(negative)\n",
    "\n",
    "fig.tight_layout()\n",
    "\n",
    "plt.show()"
   ]
  },
  {
   "cell_type": "code",
   "execution_count": null,
   "metadata": {},
   "outputs": [],
   "source": []
  },
  {
   "cell_type": "markdown",
   "metadata": {},
   "source": [
    "# Start Coding For NO Selected Review"
   ]
  },
  {
   "cell_type": "code",
   "execution_count": null,
   "metadata": {},
   "outputs": [],
   "source": [
    "col_names = [\"test\",\"sentiment\"]\n",
    "datas = pd.read_csv('data_store/no.csv',names=col_names,error_bad_lines=False)\n",
    "# displaying data frame again - Output 2 \n",
    "test_datas = datas['test'].tolist()\n",
    "# print(datas.head())\n",
    "sentiment_datas = datas['sentiment']\n",
    "\n",
    "#Testing For Add Data in specific column\n",
    "sentiment_datas[1] = 1\n",
    "print(sentiment_datas)"
   ]
  },
  {
   "cell_type": "code",
   "execution_count": null,
   "metadata": {},
   "outputs": [],
   "source": [
    "# Sentiment Prediction  from test data\n",
    "i = 1\n",
    "for data in test_datas:\n",
    "    sample = [data]\n",
    "    sample = tfidf.transform(sample)\n",
    "    sentiment = rand.predict(sample)\n",
    "    sentiment_datas[i] = int(sentiment)\n",
    "    print(type(sentiment))\n",
    "    print(data,\"Sentiment : \",sentiment)\n",
    "    i = i+1\n",
    "#     print('********************************',sentiment) \n",
    "    "
   ]
  },
  {
   "cell_type": "code",
   "execution_count": null,
   "metadata": {},
   "outputs": [],
   "source": [
    "print(datas.shape)\n",
    "print(datas['sentiment'])\n",
    "print(datas['sentiment'].count)"
   ]
  },
  {
   "cell_type": "code",
   "execution_count": null,
   "metadata": {},
   "outputs": [],
   "source": [
    "# Count Positine and Negative\n",
    "positive = []\n",
    "negative = []\n",
    "\n",
    "for d in datas['sentiment'].tolist():\n",
    "    \n",
    "    if d == 0:\n",
    "        positive.append(0)\n",
    "    else:\n",
    "        negative.append(1)\n",
    "print(datas['sentiment'])\n",
    "print(len(negative))"
   ]
  },
  {
   "cell_type": "code",
   "execution_count": null,
   "metadata": {},
   "outputs": [],
   "source": [
    "# Full Result For Who Selected NO ********************************** SVM Machine Learning Algorithm\n",
    "import matplotlib\n",
    "import matplotlib.pyplot as plt\n",
    "import numpy as np\n",
    "\n",
    "\n",
    "labels = ['Sentiment']\n",
    "men_means = len(positive)\n",
    "women_means = len(negative)\n",
    "\n",
    "x = np.arange(len(labels))  # the label locations\n",
    "width = 0.35  # the width of the bars\n",
    "\n",
    "fig, ax = plt.subplots()\n",
    "rects1 = ax.bar(x - width/2, men_means, width, label='Positive')\n",
    "rects2 = ax.bar(x + width/2, women_means, width, label='Negative')\n",
    "\n",
    "# Add some text for labels, title and custom x-axis tick labels, etc.\n",
    "ax.set_ylabel('Number Of Datas')\n",
    "ax.set_title('Apply Suppored Vactor For Sentiment Prediect')\n",
    "ax.set_xticks(x)\n",
    "ax.set_xticklabels(labels)\n",
    "ax.legend()\n",
    "\n",
    "\n",
    "def autolabel(rects):\n",
    "    \"\"\"Attach a text label above each bar in *rects*, displaying its height.\"\"\"\n",
    "    for rect in rects:\n",
    "        height = rect.get_height()\n",
    "        ax.annotate('{}'.format(height),\n",
    "                    xy=(rect.get_x() + rect.get_width() / 2, height),\n",
    "                    xytext=(0, 0.1),  # 3 points vertical offset\n",
    "                    textcoords=\"offset points\",\n",
    "                    ha='center', va='bottom')\n",
    "\n",
    "\n",
    "autolabel(rects1)\n",
    "autolabel(rects2)\n",
    "\n",
    "fig.tight_layout()\n",
    "\n",
    "plt.show()"
   ]
  },
  {
   "cell_type": "code",
   "execution_count": null,
   "metadata": {},
   "outputs": [],
   "source": []
  }
 ],
 "metadata": {
  "kernelspec": {
   "display_name": "Python 3",
   "language": "python",
   "name": "python3"
  },
  "language_info": {
   "codemirror_mode": {
    "name": "ipython",
    "version": 3
   },
   "file_extension": ".py",
   "mimetype": "text/x-python",
   "name": "python",
   "nbconvert_exporter": "python",
   "pygments_lexer": "ipython3",
   "version": "3.7.4"
  }
 },
 "nbformat": 4,
 "nbformat_minor": 4
}
